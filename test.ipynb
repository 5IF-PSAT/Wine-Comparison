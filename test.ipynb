{
 "cells": [
  {
   "cell_type": "code",
   "execution_count": 1,
   "metadata": {
    "ExecuteTime": {
     "end_time": "2023-11-30T10:34:08.324108100Z",
     "start_time": "2023-11-30T10:34:07.718353100Z"
    }
   },
   "outputs": [],
   "source": [
    "import pandas as pd\n",
    "import pyarrow.parquet as pq\n",
    "import pyarrow as pa"
   ]
  },
  {
   "cell_type": "code",
   "execution_count": 2,
   "metadata": {
    "ExecuteTime": {
     "end_time": "2023-11-30T10:34:08.478089400Z",
     "start_time": "2023-11-30T10:34:08.323107900Z"
    }
   },
   "outputs": [
    {
     "data": {
      "text/plain": "   WineID                         WineName       Type  \\\n0  100001               Espumante Moscatel  Sparkling   \n1  100002                       Ancellotta        Red   \n2  100003               Cabernet Sauvignon        Red   \n3  100004                   Virtus Moscato      White   \n4  100005  Maison de Ville Cabernet-Merlot        Red   \n\n                       Elaborate   ABV           Body Acidity  RegionID  \n0                  Varietal/100%   7.5  Medium-bodied    High      1001  \n1                  Varietal/100%  12.0  Medium-bodied  Medium      1001  \n2                  Varietal/100%  12.0    Full-bodied    High      1001  \n3                  Varietal/100%  12.0  Medium-bodied  Medium      1001  \n4  Assemblage/Bordeaux Red Blend  11.0    Full-bodied  Medium      1001  ",
      "text/html": "<div>\n<style scoped>\n    .dataframe tbody tr th:only-of-type {\n        vertical-align: middle;\n    }\n\n    .dataframe tbody tr th {\n        vertical-align: top;\n    }\n\n    .dataframe thead th {\n        text-align: right;\n    }\n</style>\n<table border=\"1\" class=\"dataframe\">\n  <thead>\n    <tr style=\"text-align: right;\">\n      <th></th>\n      <th>WineID</th>\n      <th>WineName</th>\n      <th>Type</th>\n      <th>Elaborate</th>\n      <th>ABV</th>\n      <th>Body</th>\n      <th>Acidity</th>\n      <th>RegionID</th>\n    </tr>\n  </thead>\n  <tbody>\n    <tr>\n      <th>0</th>\n      <td>100001</td>\n      <td>Espumante Moscatel</td>\n      <td>Sparkling</td>\n      <td>Varietal/100%</td>\n      <td>7.5</td>\n      <td>Medium-bodied</td>\n      <td>High</td>\n      <td>1001</td>\n    </tr>\n    <tr>\n      <th>1</th>\n      <td>100002</td>\n      <td>Ancellotta</td>\n      <td>Red</td>\n      <td>Varietal/100%</td>\n      <td>12.0</td>\n      <td>Medium-bodied</td>\n      <td>Medium</td>\n      <td>1001</td>\n    </tr>\n    <tr>\n      <th>2</th>\n      <td>100003</td>\n      <td>Cabernet Sauvignon</td>\n      <td>Red</td>\n      <td>Varietal/100%</td>\n      <td>12.0</td>\n      <td>Full-bodied</td>\n      <td>High</td>\n      <td>1001</td>\n    </tr>\n    <tr>\n      <th>3</th>\n      <td>100004</td>\n      <td>Virtus Moscato</td>\n      <td>White</td>\n      <td>Varietal/100%</td>\n      <td>12.0</td>\n      <td>Medium-bodied</td>\n      <td>Medium</td>\n      <td>1001</td>\n    </tr>\n    <tr>\n      <th>4</th>\n      <td>100005</td>\n      <td>Maison de Ville Cabernet-Merlot</td>\n      <td>Red</td>\n      <td>Assemblage/Bordeaux Red Blend</td>\n      <td>11.0</td>\n      <td>Full-bodied</td>\n      <td>Medium</td>\n      <td>1001</td>\n    </tr>\n  </tbody>\n</table>\n</div>"
     },
     "execution_count": 2,
     "metadata": {},
     "output_type": "execute_result"
    }
   ],
   "source": [
    "df = pq.read_table('./data/wine_dim.parquet').to_pandas()\n",
    "df.head()"
   ]
  },
  {
   "cell_type": "code",
   "execution_count": 3,
   "metadata": {
    "ExecuteTime": {
     "end_time": "2023-11-30T10:34:09.182112200Z",
     "start_time": "2023-11-30T10:34:08.471088200Z"
    }
   },
   "outputs": [
    {
     "ename": "FileNotFoundError",
     "evalue": "../data/ratings.parquet",
     "output_type": "error",
     "traceback": [
      "\u001B[1;31m---------------------------------------------------------------------------\u001B[0m",
      "\u001B[1;31mFileNotFoundError\u001B[0m                         Traceback (most recent call last)",
      "Cell \u001B[1;32mIn[3], line 1\u001B[0m\n\u001B[1;32m----> 1\u001B[0m df2 \u001B[38;5;241m=\u001B[39m \u001B[43mpq\u001B[49m\u001B[38;5;241;43m.\u001B[39;49m\u001B[43mread_table\u001B[49m\u001B[43m(\u001B[49m\u001B[38;5;124;43m'\u001B[39;49m\u001B[38;5;124;43m../data/ratings.parquet\u001B[39;49m\u001B[38;5;124;43m'\u001B[39;49m\u001B[43m)\u001B[49m\u001B[38;5;241m.\u001B[39mto_pandas()\n\u001B[0;32m      2\u001B[0m df2\u001B[38;5;241m.\u001B[39mhead()\n",
      "File \u001B[1;32m~\\Desktop\\The Repo\\Python\\Wine-Comparison\\venv\\Lib\\site-packages\\pyarrow\\parquet\\core.py:2956\u001B[0m, in \u001B[0;36mread_table\u001B[1;34m(source, columns, use_threads, metadata, schema, use_pandas_metadata, read_dictionary, memory_map, buffer_size, partitioning, filesystem, filters, use_legacy_dataset, ignore_prefixes, pre_buffer, coerce_int96_timestamp_unit, decryption_properties, thrift_string_size_limit, thrift_container_size_limit)\u001B[0m\n\u001B[0;32m   2949\u001B[0m     \u001B[38;5;28;01mraise\u001B[39;00m \u001B[38;5;167;01mValueError\u001B[39;00m(\n\u001B[0;32m   2950\u001B[0m         \u001B[38;5;124m\"\u001B[39m\u001B[38;5;124mThe \u001B[39m\u001B[38;5;124m'\u001B[39m\u001B[38;5;124mmetadata\u001B[39m\u001B[38;5;124m'\u001B[39m\u001B[38;5;124m keyword is no longer supported with the new \u001B[39m\u001B[38;5;124m\"\u001B[39m\n\u001B[0;32m   2951\u001B[0m         \u001B[38;5;124m\"\u001B[39m\u001B[38;5;124mdatasets-based implementation. Specify \u001B[39m\u001B[38;5;124m\"\u001B[39m\n\u001B[0;32m   2952\u001B[0m         \u001B[38;5;124m\"\u001B[39m\u001B[38;5;124m'\u001B[39m\u001B[38;5;124muse_legacy_dataset=True\u001B[39m\u001B[38;5;124m'\u001B[39m\u001B[38;5;124m to temporarily recover the old \u001B[39m\u001B[38;5;124m\"\u001B[39m\n\u001B[0;32m   2953\u001B[0m         \u001B[38;5;124m\"\u001B[39m\u001B[38;5;124mbehaviour.\u001B[39m\u001B[38;5;124m\"\u001B[39m\n\u001B[0;32m   2954\u001B[0m     )\n\u001B[0;32m   2955\u001B[0m \u001B[38;5;28;01mtry\u001B[39;00m:\n\u001B[1;32m-> 2956\u001B[0m     dataset \u001B[38;5;241m=\u001B[39m \u001B[43m_ParquetDatasetV2\u001B[49m\u001B[43m(\u001B[49m\n\u001B[0;32m   2957\u001B[0m \u001B[43m        \u001B[49m\u001B[43msource\u001B[49m\u001B[43m,\u001B[49m\n\u001B[0;32m   2958\u001B[0m \u001B[43m        \u001B[49m\u001B[43mschema\u001B[49m\u001B[38;5;241;43m=\u001B[39;49m\u001B[43mschema\u001B[49m\u001B[43m,\u001B[49m\n\u001B[0;32m   2959\u001B[0m \u001B[43m        \u001B[49m\u001B[43mfilesystem\u001B[49m\u001B[38;5;241;43m=\u001B[39;49m\u001B[43mfilesystem\u001B[49m\u001B[43m,\u001B[49m\n\u001B[0;32m   2960\u001B[0m \u001B[43m        \u001B[49m\u001B[43mpartitioning\u001B[49m\u001B[38;5;241;43m=\u001B[39;49m\u001B[43mpartitioning\u001B[49m\u001B[43m,\u001B[49m\n\u001B[0;32m   2961\u001B[0m \u001B[43m        \u001B[49m\u001B[43mmemory_map\u001B[49m\u001B[38;5;241;43m=\u001B[39;49m\u001B[43mmemory_map\u001B[49m\u001B[43m,\u001B[49m\n\u001B[0;32m   2962\u001B[0m \u001B[43m        \u001B[49m\u001B[43mread_dictionary\u001B[49m\u001B[38;5;241;43m=\u001B[39;49m\u001B[43mread_dictionary\u001B[49m\u001B[43m,\u001B[49m\n\u001B[0;32m   2963\u001B[0m \u001B[43m        \u001B[49m\u001B[43mbuffer_size\u001B[49m\u001B[38;5;241;43m=\u001B[39;49m\u001B[43mbuffer_size\u001B[49m\u001B[43m,\u001B[49m\n\u001B[0;32m   2964\u001B[0m \u001B[43m        \u001B[49m\u001B[43mfilters\u001B[49m\u001B[38;5;241;43m=\u001B[39;49m\u001B[43mfilters\u001B[49m\u001B[43m,\u001B[49m\n\u001B[0;32m   2965\u001B[0m \u001B[43m        \u001B[49m\u001B[43mignore_prefixes\u001B[49m\u001B[38;5;241;43m=\u001B[39;49m\u001B[43mignore_prefixes\u001B[49m\u001B[43m,\u001B[49m\n\u001B[0;32m   2966\u001B[0m \u001B[43m        \u001B[49m\u001B[43mpre_buffer\u001B[49m\u001B[38;5;241;43m=\u001B[39;49m\u001B[43mpre_buffer\u001B[49m\u001B[43m,\u001B[49m\n\u001B[0;32m   2967\u001B[0m \u001B[43m        \u001B[49m\u001B[43mcoerce_int96_timestamp_unit\u001B[49m\u001B[38;5;241;43m=\u001B[39;49m\u001B[43mcoerce_int96_timestamp_unit\u001B[49m\u001B[43m,\u001B[49m\n\u001B[0;32m   2968\u001B[0m \u001B[43m        \u001B[49m\u001B[43mthrift_string_size_limit\u001B[49m\u001B[38;5;241;43m=\u001B[39;49m\u001B[43mthrift_string_size_limit\u001B[49m\u001B[43m,\u001B[49m\n\u001B[0;32m   2969\u001B[0m \u001B[43m        \u001B[49m\u001B[43mthrift_container_size_limit\u001B[49m\u001B[38;5;241;43m=\u001B[39;49m\u001B[43mthrift_container_size_limit\u001B[49m\u001B[43m,\u001B[49m\n\u001B[0;32m   2970\u001B[0m \u001B[43m    \u001B[49m\u001B[43m)\u001B[49m\n\u001B[0;32m   2971\u001B[0m \u001B[38;5;28;01mexcept\u001B[39;00m \u001B[38;5;167;01mImportError\u001B[39;00m:\n\u001B[0;32m   2972\u001B[0m     \u001B[38;5;66;03m# fall back on ParquetFile for simple cases when pyarrow.dataset\u001B[39;00m\n\u001B[0;32m   2973\u001B[0m     \u001B[38;5;66;03m# module is not available\u001B[39;00m\n\u001B[0;32m   2974\u001B[0m     \u001B[38;5;28;01mif\u001B[39;00m filters \u001B[38;5;129;01mis\u001B[39;00m \u001B[38;5;129;01mnot\u001B[39;00m \u001B[38;5;28;01mNone\u001B[39;00m:\n",
      "File \u001B[1;32m~\\Desktop\\The Repo\\Python\\Wine-Comparison\\venv\\Lib\\site-packages\\pyarrow\\parquet\\core.py:2507\u001B[0m, in \u001B[0;36m_ParquetDatasetV2.__init__\u001B[1;34m(self, path_or_paths, filesystem, filters, partitioning, read_dictionary, buffer_size, memory_map, ignore_prefixes, pre_buffer, coerce_int96_timestamp_unit, schema, decryption_properties, thrift_string_size_limit, thrift_container_size_limit, **kwargs)\u001B[0m\n\u001B[0;32m   2503\u001B[0m \u001B[38;5;28;01mif\u001B[39;00m partitioning \u001B[38;5;241m==\u001B[39m \u001B[38;5;124m\"\u001B[39m\u001B[38;5;124mhive\u001B[39m\u001B[38;5;124m\"\u001B[39m:\n\u001B[0;32m   2504\u001B[0m     partitioning \u001B[38;5;241m=\u001B[39m ds\u001B[38;5;241m.\u001B[39mHivePartitioning\u001B[38;5;241m.\u001B[39mdiscover(\n\u001B[0;32m   2505\u001B[0m         infer_dictionary\u001B[38;5;241m=\u001B[39m\u001B[38;5;28;01mTrue\u001B[39;00m)\n\u001B[1;32m-> 2507\u001B[0m \u001B[38;5;28mself\u001B[39m\u001B[38;5;241m.\u001B[39m_dataset \u001B[38;5;241m=\u001B[39m \u001B[43mds\u001B[49m\u001B[38;5;241;43m.\u001B[39;49m\u001B[43mdataset\u001B[49m\u001B[43m(\u001B[49m\u001B[43mpath_or_paths\u001B[49m\u001B[43m,\u001B[49m\u001B[43m \u001B[49m\u001B[43mfilesystem\u001B[49m\u001B[38;5;241;43m=\u001B[39;49m\u001B[43mfilesystem\u001B[49m\u001B[43m,\u001B[49m\n\u001B[0;32m   2508\u001B[0m \u001B[43m                           \u001B[49m\u001B[43mschema\u001B[49m\u001B[38;5;241;43m=\u001B[39;49m\u001B[43mschema\u001B[49m\u001B[43m,\u001B[49m\u001B[43m \u001B[49m\u001B[38;5;28;43mformat\u001B[39;49m\u001B[38;5;241;43m=\u001B[39;49m\u001B[43mparquet_format\u001B[49m\u001B[43m,\u001B[49m\n\u001B[0;32m   2509\u001B[0m \u001B[43m                           \u001B[49m\u001B[43mpartitioning\u001B[49m\u001B[38;5;241;43m=\u001B[39;49m\u001B[43mpartitioning\u001B[49m\u001B[43m,\u001B[49m\n\u001B[0;32m   2510\u001B[0m \u001B[43m                           \u001B[49m\u001B[43mignore_prefixes\u001B[49m\u001B[38;5;241;43m=\u001B[39;49m\u001B[43mignore_prefixes\u001B[49m\u001B[43m)\u001B[49m\n",
      "File \u001B[1;32m~\\Desktop\\The Repo\\Python\\Wine-Comparison\\venv\\Lib\\site-packages\\pyarrow\\dataset.py:782\u001B[0m, in \u001B[0;36mdataset\u001B[1;34m(source, schema, format, filesystem, partitioning, partition_base_dir, exclude_invalid_files, ignore_prefixes)\u001B[0m\n\u001B[0;32m    771\u001B[0m kwargs \u001B[38;5;241m=\u001B[39m \u001B[38;5;28mdict\u001B[39m(\n\u001B[0;32m    772\u001B[0m     schema\u001B[38;5;241m=\u001B[39mschema,\n\u001B[0;32m    773\u001B[0m     filesystem\u001B[38;5;241m=\u001B[39mfilesystem,\n\u001B[1;32m   (...)\u001B[0m\n\u001B[0;32m    778\u001B[0m     selector_ignore_prefixes\u001B[38;5;241m=\u001B[39mignore_prefixes\n\u001B[0;32m    779\u001B[0m )\n\u001B[0;32m    781\u001B[0m \u001B[38;5;28;01mif\u001B[39;00m _is_path_like(source):\n\u001B[1;32m--> 782\u001B[0m     \u001B[38;5;28;01mreturn\u001B[39;00m \u001B[43m_filesystem_dataset\u001B[49m\u001B[43m(\u001B[49m\u001B[43msource\u001B[49m\u001B[43m,\u001B[49m\u001B[43m \u001B[49m\u001B[38;5;241;43m*\u001B[39;49m\u001B[38;5;241;43m*\u001B[39;49m\u001B[43mkwargs\u001B[49m\u001B[43m)\u001B[49m\n\u001B[0;32m    783\u001B[0m \u001B[38;5;28;01melif\u001B[39;00m \u001B[38;5;28misinstance\u001B[39m(source, (\u001B[38;5;28mtuple\u001B[39m, \u001B[38;5;28mlist\u001B[39m)):\n\u001B[0;32m    784\u001B[0m     \u001B[38;5;28;01mif\u001B[39;00m \u001B[38;5;28mall\u001B[39m(_is_path_like(elem) \u001B[38;5;28;01mfor\u001B[39;00m elem \u001B[38;5;129;01min\u001B[39;00m source):\n",
      "File \u001B[1;32m~\\Desktop\\The Repo\\Python\\Wine-Comparison\\venv\\Lib\\site-packages\\pyarrow\\dataset.py:465\u001B[0m, in \u001B[0;36m_filesystem_dataset\u001B[1;34m(source, schema, filesystem, partitioning, format, partition_base_dir, exclude_invalid_files, selector_ignore_prefixes)\u001B[0m\n\u001B[0;32m    463\u001B[0m     fs, paths_or_selector \u001B[38;5;241m=\u001B[39m _ensure_multiple_sources(source, filesystem)\n\u001B[0;32m    464\u001B[0m \u001B[38;5;28;01melse\u001B[39;00m:\n\u001B[1;32m--> 465\u001B[0m     fs, paths_or_selector \u001B[38;5;241m=\u001B[39m \u001B[43m_ensure_single_source\u001B[49m\u001B[43m(\u001B[49m\u001B[43msource\u001B[49m\u001B[43m,\u001B[49m\u001B[43m \u001B[49m\u001B[43mfilesystem\u001B[49m\u001B[43m)\u001B[49m\n\u001B[0;32m    467\u001B[0m options \u001B[38;5;241m=\u001B[39m FileSystemFactoryOptions(\n\u001B[0;32m    468\u001B[0m     partitioning\u001B[38;5;241m=\u001B[39mpartitioning,\n\u001B[0;32m    469\u001B[0m     partition_base_dir\u001B[38;5;241m=\u001B[39mpartition_base_dir,\n\u001B[0;32m    470\u001B[0m     exclude_invalid_files\u001B[38;5;241m=\u001B[39mexclude_invalid_files,\n\u001B[0;32m    471\u001B[0m     selector_ignore_prefixes\u001B[38;5;241m=\u001B[39mselector_ignore_prefixes\n\u001B[0;32m    472\u001B[0m )\n\u001B[0;32m    473\u001B[0m factory \u001B[38;5;241m=\u001B[39m FileSystemDatasetFactory(fs, paths_or_selector, \u001B[38;5;28mformat\u001B[39m, options)\n",
      "File \u001B[1;32m~\\Desktop\\The Repo\\Python\\Wine-Comparison\\venv\\Lib\\site-packages\\pyarrow\\dataset.py:441\u001B[0m, in \u001B[0;36m_ensure_single_source\u001B[1;34m(path, filesystem)\u001B[0m\n\u001B[0;32m    439\u001B[0m     paths_or_selector \u001B[38;5;241m=\u001B[39m [path]\n\u001B[0;32m    440\u001B[0m \u001B[38;5;28;01melse\u001B[39;00m:\n\u001B[1;32m--> 441\u001B[0m     \u001B[38;5;28;01mraise\u001B[39;00m \u001B[38;5;167;01mFileNotFoundError\u001B[39;00m(path)\n\u001B[0;32m    443\u001B[0m \u001B[38;5;28;01mreturn\u001B[39;00m filesystem, paths_or_selector\n",
      "\u001B[1;31mFileNotFoundError\u001B[0m: ../data/ratings.parquet"
     ]
    }
   ],
   "source": [
    "df2 = pq.read_table('../data/ratings.parquet').to_pandas()\n",
    "df2.head()"
   ]
  }
 ],
 "metadata": {
  "kernelspec": {
   "display_name": "fl",
   "language": "python",
   "name": "python3"
  },
  "language_info": {
   "codemirror_mode": {
    "name": "ipython",
    "version": 3
   },
   "file_extension": ".py",
   "mimetype": "text/x-python",
   "name": "python",
   "nbconvert_exporter": "python",
   "pygments_lexer": "ipython3",
   "version": "3.9.16"
  }
 },
 "nbformat": 4,
 "nbformat_minor": 2
}
