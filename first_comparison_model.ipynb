{
 "cells": [
  {
   "cell_type": "code",
   "execution_count": null,
   "metadata": {},
   "outputs": [],
   "source": [
    "import pandas as pd\n",
    "import numpy as np\n",
    "import pyarrow.parquet as pq\n",
    "import pyarrow as pa"
   ]
  },
  {
   "cell_type": "code",
   "execution_count": null,
   "metadata": {},
   "outputs": [],
   "source": [
    "original_wine_ratings = pq.read_table('./data/join_wine_agg_rating.parquet').to_pandas()\n",
    "print(original_wine_ratings.shape)\n",
    "original_wine_ratings.head()"
   ]
  },
  {
   "cell_type": "code",
   "execution_count": null,
   "metadata": {},
   "outputs": [],
   "source": [
    "wine_ratings = pq.read_table('./data/join_wine_agg_rating.parquet').to_pandas()"
   ]
  },
  {
   "cell_type": "code",
   "execution_count": null,
   "metadata": {},
   "outputs": [],
   "source": [
    "file = \"./data/winemag-data_first150k.csv\"\n",
    "data = pd.read_csv(file)"
   ]
  },
  {
   "cell_type": "code",
   "execution_count": null,
   "metadata": {},
   "outputs": [],
   "source": [
    "wine_ratings.loc[wine_ratings['WineName'] == \"Sauvignon Blanc\"]"
   ]
  },
  {
   "cell_type": "code",
   "execution_count": null,
   "metadata": {},
   "outputs": [],
   "source": [
    "#count number of values = 100001 in colume 'WineID'\n",
    "len(wine_ratings[wine_ratings['WineID'] == 100001])"
   ]
  },
  {
   "cell_type": "code",
   "execution_count": null,
   "metadata": {},
   "outputs": [],
   "source": [
    "# keep only the wines that have at least 5 ratings\n",
    "pertinent_wine_ratings = wine_ratings[wine_ratings['CountRating'] > 4 ]\n",
    "print(pertinent_wine_ratings.shape)\n",
    "pertinent_wine_ratings.head()"
   ]
  },
  {
   "cell_type": "code",
   "execution_count": null,
   "metadata": {},
   "outputs": [],
   "source": [
    "## Label Encoding\n",
    "\n",
    "from sklearn import preprocessing\n",
    "le = preprocessing.LabelEncoder()\n",
    "\n",
    "pertinent_wine_ratings.loc[:, 'Type'] = le.fit_transform(pertinent_wine_ratings['Type'])+1\n",
    "pertinent_wine_ratings.loc[:, 'Body'] = le.fit_transform(pertinent_wine_ratings['Body'])+1\n",
    "pertinent_wine_ratings.loc[:, 'Acidity'] = le.fit_transform(pertinent_wine_ratings['Acidity'])+1\n",
    "pertinent_wine_ratings.loc[:, 'Elaborate'] = le.fit_transform(pertinent_wine_ratings['Elaborate'])+1\n",
    "\n",
    "pertinent_wine_ratings.head()"
   ]
  },
  {
   "cell_type": "code",
   "execution_count": null,
   "metadata": {},
   "outputs": [],
   "source": [
    "## Select Features and Target\n",
    "X = pertinent_wine_ratings.drop(['WineID','Vintage','WineName', 'RegionID'], axis=1)\n",
    "Y = pertinent_wine_ratings[['WineID','Vintage']]"
   ]
  },
  {
   "cell_type": "code",
   "execution_count": null,
   "metadata": {},
   "outputs": [],
   "source": [
    "X.head()"
   ]
  },
  {
   "cell_type": "code",
   "execution_count": null,
   "metadata": {},
   "outputs": [],
   "source": [
    "Y.head()"
   ]
  },
  {
   "cell_type": "code",
   "execution_count": null,
   "metadata": {},
   "outputs": [],
   "source": [
    "## Normalize Features\n",
    "for column in X.columns:\n",
    "    X[column] = (X[column] - X[column].min()) / (X[column].max() - X[column].min())"
   ]
  },
  {
   "cell_type": "code",
   "execution_count": null,
   "metadata": {},
   "outputs": [],
   "source": [
    "X.head()"
   ]
  },
  {
   "cell_type": "code",
   "execution_count": null,
   "metadata": {},
   "outputs": [],
   "source": [
    "## Concatenate Features and Target for the comparison\n",
    "X = pd.concat([Y,X], axis=1)"
   ]
  },
  {
   "cell_type": "code",
   "execution_count": null,
   "metadata": {},
   "outputs": [],
   "source": [
    "X.head()"
   ]
  },
  {
   "cell_type": "code",
   "execution_count": null,
   "metadata": {},
   "outputs": [],
   "source": [
    "wine_id = 100001\n",
    "vintage = '2014'\n",
    "\n",
    "\n",
    "if ((X['WineID'] == wine_id) & (X['Vintage'] == vintage)).any():\n",
    "    print(\"Wine ID found\")\n",
    "    #fine row with index wine_id in X\n",
    "    #given_row_X = X.loc[X['WineID']== float(wine_id)] \n",
    "    \n",
    "    #find row with index wine_id and vintage_id in pertinent_ratings\n",
    "    reference_row = X.loc[(X['WineID'] == wine_id) & (X['Vintage'] == vintage)]\n",
    "    print(reference_row)\n",
    "    \n",
    "    # found_wine = True\n",
    "else:\n",
    "    print(\"Wine ID not found\")\n",
    "\n",
    "print(type(X['Vintage'].iloc[0]))\n",
    "\n",
    "if ((X['Vintage'] == vintage)).any():\n",
    "    print(\"Vintage found\")\n"
   ]
  },
  {
   "cell_type": "code",
   "execution_count": null,
   "metadata": {},
   "outputs": [],
   "source": [
    "# Calculate the Euclidean distance between the reference wine and each of the other wines\n",
    "\n",
    "from scipy.spatial import distance\n",
    "\n",
    "def euclidean_distance(row):\n",
    "    \n",
    "    wine = [float(row['Type']), float(row['ABV']), float(row['Body']), float(row['Acidity']), float(row['Elaborate']), float(row['AverageRating'])]\n",
    "    reference_wine = [float(reference_row['Type'].values[0]), float(reference_row['ABV'].values[0]), float(reference_row['Body'].values[0]), \n",
    "                      float(reference_row['Acidity'].values[0]), float(reference_row['Elaborate'].values[0]), float(reference_row['AverageRating'].values[0])]\n",
    "\n",
    "    return distance.euclidean(wine, reference_wine)\n",
    "\n",
    "\n",
    "X['euclidean_distance'] = X.apply(euclidean_distance, axis=1)\n",
    "\n",
    "# Display the DataFrame with the calculated distances\n",
    "print(X.head())"
   ]
  },
  {
   "cell_type": "code",
   "execution_count": null,
   "metadata": {},
   "outputs": [],
   "source": [
    "# Sort the DataFrame by the euclidean_distance column and display the 10 nearest wines\n",
    "ref_wine_name = pertinent_wine_ratings.loc[(pertinent_wine_ratings['WineID'] == wine_id) & (pertinent_wine_ratings['Vintage'] == vintage)]['WineName'].values[0]\n",
    "print(\"reference wine is \"+ ref_wine_name + \" in year \" + vintage)\n",
    "print(\"The 10 most similar wines are:\")\n",
    "\n",
    "Z = X.sort_values(by=['euclidean_distance'])\n",
    "Z = Z.head(11)\n",
    "\n",
    "for index, row in Z.iterrows():\n",
    "    r = pertinent_wine_ratings.loc[(pertinent_wine_ratings['WineID'] == row['WineID']) & (pertinent_wine_ratings['Vintage'] == row['Vintage'])]\n",
    "    print(r['WineName'].values[0] + \" in year \" + r['Vintage'].values[0])"
   ]
  }
 ],
 "metadata": {
  "kernelspec": {
   "display_name": "fl",
   "language": "python",
   "name": "python3"
  },
  "language_info": {
   "codemirror_mode": {
    "name": "ipython",
    "version": 3
   },
   "file_extension": ".py",
   "mimetype": "text/x-python",
   "name": "python",
   "nbconvert_exporter": "python",
   "pygments_lexer": "ipython3",
   "version": "3.9.16"
  }
 },
 "nbformat": 4,
 "nbformat_minor": 2
}
