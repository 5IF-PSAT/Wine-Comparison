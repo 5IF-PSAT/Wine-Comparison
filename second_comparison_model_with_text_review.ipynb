{
 "cells": [
  {
   "cell_type": "code",
   "execution_count": 1,
   "metadata": {},
   "outputs": [],
   "source": [
    "import pandas as pd\n",
    "import numpy as np\n",
    "import pyarrow.parquet as pq\n",
    "import pyarrow as pa"
   ]
  },
  {
   "cell_type": "code",
   "execution_count": 100,
   "metadata": {},
   "outputs": [],
   "source": [
    "# Hyper-Parameters\n",
    "PERTINENT_YEAR = 1960\n",
    "MIN_NBCOUNT_TO_BE_PERTINENT = 4\n",
    "WEIGTH_COMPOSITION_VS_WEATHER = 1\n",
    "NUMBER_OF_WINES_TO_RECOMMEND = 10"
   ]
  },
  {
   "cell_type": "markdown",
   "metadata": {},
   "source": [
    "# Read data and clean data"
   ]
  },
  {
   "cell_type": "code",
   "execution_count": 3,
   "metadata": {},
   "outputs": [
    {
     "name": "stdout",
     "output_type": "stream",
     "text": [
      "(10859, 16)\n"
     ]
    }
   ],
   "source": [
    "test= pq.read_table('./data/wine_xwine_vivino.parquet').to_pandas()\n",
    "print(test.shape)\n",
    "\n",
    "#save to csv\n",
    "test[['WineID', 'Vintage', 'Review']].to_csv('./data/test_nb_review.csv', index=False)"
   ]
  },
  {
   "cell_type": "code",
   "execution_count": 4,
   "metadata": {},
   "outputs": [
    {
     "name": "stdout",
     "output_type": "stream",
     "text": [
      "(1015470, 14)\n"
     ]
    },
    {
     "data": {
      "text/html": [
       "<div>\n",
       "<style scoped>\n",
       "    .dataframe tbody tr th:only-of-type {\n",
       "        vertical-align: middle;\n",
       "    }\n",
       "\n",
       "    .dataframe tbody tr th {\n",
       "        vertical-align: top;\n",
       "    }\n",
       "\n",
       "    .dataframe thead th {\n",
       "        text-align: right;\n",
       "    }\n",
       "</style>\n",
       "<table border=\"1\" class=\"dataframe\">\n",
       "  <thead>\n",
       "    <tr style=\"text-align: right;\">\n",
       "      <th></th>\n",
       "      <th>WineID</th>\n",
       "      <th>Vintage</th>\n",
       "      <th>RegionID</th>\n",
       "      <th>MinRating</th>\n",
       "      <th>MaxRating</th>\n",
       "      <th>AverageRating</th>\n",
       "      <th>CountRating</th>\n",
       "      <th>WineName</th>\n",
       "      <th>Type</th>\n",
       "      <th>Elaborate</th>\n",
       "      <th>ABV</th>\n",
       "      <th>Body</th>\n",
       "      <th>Acidity</th>\n",
       "      <th>Review</th>\n",
       "    </tr>\n",
       "  </thead>\n",
       "  <tbody>\n",
       "    <tr>\n",
       "      <th>0</th>\n",
       "      <td>100001</td>\n",
       "      <td>1988</td>\n",
       "      <td>1001</td>\n",
       "      <td>3.0</td>\n",
       "      <td>5.0</td>\n",
       "      <td>4.000000</td>\n",
       "      <td>2</td>\n",
       "      <td>Espumante Moscatel</td>\n",
       "      <td>Sparkling</td>\n",
       "      <td>Varietal/100%</td>\n",
       "      <td>7.5</td>\n",
       "      <td>Medium-bodied</td>\n",
       "      <td>High</td>\n",
       "      <td>None</td>\n",
       "    </tr>\n",
       "    <tr>\n",
       "      <th>1</th>\n",
       "      <td>100001</td>\n",
       "      <td>1999</td>\n",
       "      <td>1001</td>\n",
       "      <td>4.0</td>\n",
       "      <td>5.0</td>\n",
       "      <td>4.500000</td>\n",
       "      <td>2</td>\n",
       "      <td>Espumante Moscatel</td>\n",
       "      <td>Sparkling</td>\n",
       "      <td>Varietal/100%</td>\n",
       "      <td>7.5</td>\n",
       "      <td>Medium-bodied</td>\n",
       "      <td>High</td>\n",
       "      <td>None</td>\n",
       "    </tr>\n",
       "    <tr>\n",
       "      <th>2</th>\n",
       "      <td>100001</td>\n",
       "      <td>2007</td>\n",
       "      <td>1001</td>\n",
       "      <td>2.5</td>\n",
       "      <td>2.5</td>\n",
       "      <td>2.500000</td>\n",
       "      <td>1</td>\n",
       "      <td>Espumante Moscatel</td>\n",
       "      <td>Sparkling</td>\n",
       "      <td>Varietal/100%</td>\n",
       "      <td>7.5</td>\n",
       "      <td>Medium-bodied</td>\n",
       "      <td>High</td>\n",
       "      <td>None</td>\n",
       "    </tr>\n",
       "    <tr>\n",
       "      <th>3</th>\n",
       "      <td>100001</td>\n",
       "      <td>2008</td>\n",
       "      <td>1001</td>\n",
       "      <td>1.0</td>\n",
       "      <td>5.0</td>\n",
       "      <td>3.630952</td>\n",
       "      <td>42</td>\n",
       "      <td>Espumante Moscatel</td>\n",
       "      <td>Sparkling</td>\n",
       "      <td>Varietal/100%</td>\n",
       "      <td>7.5</td>\n",
       "      <td>Medium-bodied</td>\n",
       "      <td>High</td>\n",
       "      <td>None</td>\n",
       "    </tr>\n",
       "    <tr>\n",
       "      <th>4</th>\n",
       "      <td>100001</td>\n",
       "      <td>2009</td>\n",
       "      <td>1001</td>\n",
       "      <td>4.0</td>\n",
       "      <td>4.0</td>\n",
       "      <td>4.000000</td>\n",
       "      <td>1</td>\n",
       "      <td>Espumante Moscatel</td>\n",
       "      <td>Sparkling</td>\n",
       "      <td>Varietal/100%</td>\n",
       "      <td>7.5</td>\n",
       "      <td>Medium-bodied</td>\n",
       "      <td>High</td>\n",
       "      <td>None</td>\n",
       "    </tr>\n",
       "  </tbody>\n",
       "</table>\n",
       "</div>"
      ],
      "text/plain": [
       "   WineID Vintage  RegionID  MinRating  MaxRating  AverageRating  CountRating  \\\n",
       "0  100001    1988      1001        3.0        5.0       4.000000            2   \n",
       "1  100001    1999      1001        4.0        5.0       4.500000            2   \n",
       "2  100001    2007      1001        2.5        2.5       2.500000            1   \n",
       "3  100001    2008      1001        1.0        5.0       3.630952           42   \n",
       "4  100001    2009      1001        4.0        4.0       4.000000            1   \n",
       "\n",
       "             WineName       Type      Elaborate  ABV           Body Acidity  \\\n",
       "0  Espumante Moscatel  Sparkling  Varietal/100%  7.5  Medium-bodied    High   \n",
       "1  Espumante Moscatel  Sparkling  Varietal/100%  7.5  Medium-bodied    High   \n",
       "2  Espumante Moscatel  Sparkling  Varietal/100%  7.5  Medium-bodied    High   \n",
       "3  Espumante Moscatel  Sparkling  Varietal/100%  7.5  Medium-bodied    High   \n",
       "4  Espumante Moscatel  Sparkling  Varietal/100%  7.5  Medium-bodied    High   \n",
       "\n",
       "  Review  \n",
       "0   None  \n",
       "1   None  \n",
       "2   None  \n",
       "3   None  \n",
       "4   None  "
      ]
     },
     "execution_count": 4,
     "metadata": {},
     "output_type": "execute_result"
    }
   ],
   "source": [
    "wine_ratings = pq.read_table('./data/all_wine_xwine_vivino.parquet').to_pandas()\n",
    "print(wine_ratings.shape)\n",
    "wine_ratings.head()"
   ]
  },
  {
   "cell_type": "code",
   "execution_count": 5,
   "metadata": {},
   "outputs": [
    {
     "name": "stdout",
     "output_type": "stream",
     "text": [
      "Index(['WineID', 'Vintage', 'RegionID', 'MinRating', 'MaxRating',\n",
      "       'AverageRating', 'CountRating', 'WineName', 'Type', 'Elaborate', 'ABV',\n",
      "       'Body', 'Acidity', 'Review'],\n",
      "      dtype='object')\n"
     ]
    }
   ],
   "source": [
    "#cast Vintage to int\n",
    "wine_ratings['Vintage'] = wine_ratings['Vintage'].astype(int)\n",
    "print(wine_ratings.columns)"
   ]
  },
  {
   "cell_type": "code",
   "execution_count": 6,
   "metadata": {},
   "outputs": [
    {
     "name": "stdout",
     "output_type": "stream",
     "text": [
      "(590946, 14)\n"
     ]
    }
   ],
   "source": [
    "#keep only where CountRating >= 4 and Vintage >= 1960\n",
    "pertinent_wine_ratings = wine_ratings[wine_ratings['CountRating'] >= MIN_NBCOUNT_TO_BE_PERTINENT]\n",
    "pertinent_wine_ratings = pertinent_wine_ratings[pertinent_wine_ratings['Vintage'] >= PERTINENT_YEAR]\n",
    "print(pertinent_wine_ratings.shape)"
   ]
  },
  {
   "cell_type": "markdown",
   "metadata": {},
   "source": [
    "# Add weather features to the table"
   ]
  },
  {
   "cell_type": "code",
   "execution_count": 7,
   "metadata": {},
   "outputs": [],
   "source": [
    "# Add weather data to the dataframe by joining with ../weather_data/agg_monthly.parquet\n",
    "weather_data = pd.read_parquet('./data/agg_quarterly.parquet') \n",
    "\n",
    "# Take into account only the weather data from 1960\n",
    "weather_data = weather_data[weather_data['year'] >= PERTINENT_YEAR]\n",
    "\n",
    "# Take into account only columns: RegionID, year, avg_temperature, avg_sunshine_duration, avg_precipitation, avg_rain, avg_humidity, avg_soil_temperature, avg_soil_moisture\n",
    "weather_data = weather_data[['RegionID', 'year', 'quarter', 'avg_temperature', 'avg_sunshine_duration', 'avg_precipitation', 'avg_rain', 'avg_humidity', 'avg_soil_temperature', 'avg_soil_moisture']]\n",
    "# Create a new dataframe with the data for each region and year, and with a group of column for each quarter\n",
    "for index, row in weather_data.iterrows():\n",
    "    quarter = int(row['quarter'])\n",
    "    weather_data.at[index, f'avg_temperature_q{quarter}'] = row['avg_temperature']\n",
    "    weather_data.at[index, f'avg_sunshine_duration_q{quarter}'] = row['avg_sunshine_duration']\n",
    "    weather_data.at[index, f'avg_precipitation_q{quarter}'] = row['avg_precipitation']\n",
    "    weather_data.at[index, f'avg_rain_q{quarter}'] = row['avg_rain']\n",
    "    weather_data.at[index, f'avg_humidity_q{quarter}'] = row['avg_humidity']\n",
    "    weather_data.at[index, f'avg_soil_temperature_q{quarter}'] = row['avg_soil_temperature']\n",
    "    weather_data.at[index, f'avg_soil_moisture_q{quarter}'] = row['avg_soil_moisture']\n",
    "    \n",
    "# Drop the columns that are not needed anymore\n",
    "weather_data = weather_data.drop(['quarter', 'avg_temperature', 'avg_sunshine_duration', 'avg_precipitation', 'avg_rain', 'avg_humidity', 'avg_soil_temperature', 'avg_soil_moisture'], axis=1)\n",
    "\n",
    "# Group the data by RegionID and year and take the max of each column\n",
    "weather_data = weather_data.groupby(['RegionID', 'year']).max().reset_index()"
   ]
  },
  {
   "cell_type": "code",
   "execution_count": 8,
   "metadata": {},
   "outputs": [
    {
     "data": {
      "text/html": [
       "<div>\n",
       "<style scoped>\n",
       "    .dataframe tbody tr th:only-of-type {\n",
       "        vertical-align: middle;\n",
       "    }\n",
       "\n",
       "    .dataframe tbody tr th {\n",
       "        vertical-align: top;\n",
       "    }\n",
       "\n",
       "    .dataframe thead th {\n",
       "        text-align: right;\n",
       "    }\n",
       "</style>\n",
       "<table border=\"1\" class=\"dataframe\">\n",
       "  <thead>\n",
       "    <tr style=\"text-align: right;\">\n",
       "      <th></th>\n",
       "      <th>RegionID</th>\n",
       "      <th>year</th>\n",
       "      <th>avg_temperature_q1</th>\n",
       "      <th>avg_sunshine_duration_q1</th>\n",
       "      <th>avg_precipitation_q1</th>\n",
       "      <th>avg_rain_q1</th>\n",
       "      <th>avg_humidity_q1</th>\n",
       "      <th>avg_soil_temperature_q1</th>\n",
       "      <th>avg_soil_moisture_q1</th>\n",
       "      <th>avg_temperature_q2</th>\n",
       "      <th>...</th>\n",
       "      <th>avg_humidity_q3</th>\n",
       "      <th>avg_soil_temperature_q3</th>\n",
       "      <th>avg_soil_moisture_q3</th>\n",
       "      <th>avg_temperature_q4</th>\n",
       "      <th>avg_sunshine_duration_q4</th>\n",
       "      <th>avg_precipitation_q4</th>\n",
       "      <th>avg_rain_q4</th>\n",
       "      <th>avg_humidity_q4</th>\n",
       "      <th>avg_soil_temperature_q4</th>\n",
       "      <th>avg_soil_moisture_q4</th>\n",
       "    </tr>\n",
       "  </thead>\n",
       "  <tbody>\n",
       "    <tr>\n",
       "      <th>0</th>\n",
       "      <td>1000</td>\n",
       "      <td>1960</td>\n",
       "      <td>20.543956</td>\n",
       "      <td>39951.309011</td>\n",
       "      <td>3.235165</td>\n",
       "      <td>3.235165</td>\n",
       "      <td>82.087912</td>\n",
       "      <td>20.421978</td>\n",
       "      <td>0.463380</td>\n",
       "      <td>13.495604</td>\n",
       "      <td>...</td>\n",
       "      <td>81.035326</td>\n",
       "      <td>13.525861</td>\n",
       "      <td>0.474124</td>\n",
       "      <td>18.985870</td>\n",
       "      <td>34659.490870</td>\n",
       "      <td>4.454348</td>\n",
       "      <td>4.454348</td>\n",
       "      <td>79.113678</td>\n",
       "      <td>17.784466</td>\n",
       "      <td>0.441081</td>\n",
       "    </tr>\n",
       "    <tr>\n",
       "      <th>1</th>\n",
       "      <td>1000</td>\n",
       "      <td>1961</td>\n",
       "      <td>21.013333</td>\n",
       "      <td>34062.769889</td>\n",
       "      <td>4.664444</td>\n",
       "      <td>4.664444</td>\n",
       "      <td>82.592130</td>\n",
       "      <td>20.753333</td>\n",
       "      <td>0.424137</td>\n",
       "      <td>15.089011</td>\n",
       "      <td>...</td>\n",
       "      <td>81.089674</td>\n",
       "      <td>15.644928</td>\n",
       "      <td>0.416095</td>\n",
       "      <td>19.410870</td>\n",
       "      <td>35479.610978</td>\n",
       "      <td>6.150000</td>\n",
       "      <td>6.150000</td>\n",
       "      <td>81.992301</td>\n",
       "      <td>18.734375</td>\n",
       "      <td>0.472089</td>\n",
       "    </tr>\n",
       "    <tr>\n",
       "      <th>2</th>\n",
       "      <td>1000</td>\n",
       "      <td>1962</td>\n",
       "      <td>20.167778</td>\n",
       "      <td>37664.319778</td>\n",
       "      <td>2.975556</td>\n",
       "      <td>2.975556</td>\n",
       "      <td>78.656944</td>\n",
       "      <td>20.257315</td>\n",
       "      <td>0.399439</td>\n",
       "      <td>13.474725</td>\n",
       "      <td>...</td>\n",
       "      <td>83.466938</td>\n",
       "      <td>13.249366</td>\n",
       "      <td>0.432844</td>\n",
       "      <td>17.871739</td>\n",
       "      <td>38923.577935</td>\n",
       "      <td>3.016304</td>\n",
       "      <td>3.016304</td>\n",
       "      <td>75.854620</td>\n",
       "      <td>16.668614</td>\n",
       "      <td>0.430590</td>\n",
       "    </tr>\n",
       "    <tr>\n",
       "      <th>3</th>\n",
       "      <td>1000</td>\n",
       "      <td>1963</td>\n",
       "      <td>20.976667</td>\n",
       "      <td>32839.231111</td>\n",
       "      <td>6.416667</td>\n",
       "      <td>6.416667</td>\n",
       "      <td>83.199537</td>\n",
       "      <td>20.654398</td>\n",
       "      <td>0.447973</td>\n",
       "      <td>14.848352</td>\n",
       "      <td>...</td>\n",
       "      <td>81.668931</td>\n",
       "      <td>15.242165</td>\n",
       "      <td>0.480356</td>\n",
       "      <td>18.468478</td>\n",
       "      <td>31610.565109</td>\n",
       "      <td>7.048913</td>\n",
       "      <td>7.048913</td>\n",
       "      <td>82.246830</td>\n",
       "      <td>17.791033</td>\n",
       "      <td>0.473822</td>\n",
       "    </tr>\n",
       "    <tr>\n",
       "      <th>4</th>\n",
       "      <td>1000</td>\n",
       "      <td>1964</td>\n",
       "      <td>20.557143</td>\n",
       "      <td>38296.825604</td>\n",
       "      <td>2.035165</td>\n",
       "      <td>2.035165</td>\n",
       "      <td>76.513736</td>\n",
       "      <td>20.588782</td>\n",
       "      <td>0.378099</td>\n",
       "      <td>13.912088</td>\n",
       "      <td>...</td>\n",
       "      <td>85.091938</td>\n",
       "      <td>13.004801</td>\n",
       "      <td>0.472649</td>\n",
       "      <td>16.822826</td>\n",
       "      <td>38146.660000</td>\n",
       "      <td>2.823913</td>\n",
       "      <td>2.823913</td>\n",
       "      <td>78.979167</td>\n",
       "      <td>16.364629</td>\n",
       "      <td>0.449564</td>\n",
       "    </tr>\n",
       "  </tbody>\n",
       "</table>\n",
       "<p>5 rows × 30 columns</p>\n",
       "</div>"
      ],
      "text/plain": [
       "   RegionID  year  avg_temperature_q1  avg_sunshine_duration_q1  \\\n",
       "0      1000  1960           20.543956              39951.309011   \n",
       "1      1000  1961           21.013333              34062.769889   \n",
       "2      1000  1962           20.167778              37664.319778   \n",
       "3      1000  1963           20.976667              32839.231111   \n",
       "4      1000  1964           20.557143              38296.825604   \n",
       "\n",
       "   avg_precipitation_q1  avg_rain_q1  avg_humidity_q1  \\\n",
       "0              3.235165     3.235165        82.087912   \n",
       "1              4.664444     4.664444        82.592130   \n",
       "2              2.975556     2.975556        78.656944   \n",
       "3              6.416667     6.416667        83.199537   \n",
       "4              2.035165     2.035165        76.513736   \n",
       "\n",
       "   avg_soil_temperature_q1  avg_soil_moisture_q1  avg_temperature_q2  ...  \\\n",
       "0                20.421978              0.463380           13.495604  ...   \n",
       "1                20.753333              0.424137           15.089011  ...   \n",
       "2                20.257315              0.399439           13.474725  ...   \n",
       "3                20.654398              0.447973           14.848352  ...   \n",
       "4                20.588782              0.378099           13.912088  ...   \n",
       "\n",
       "   avg_humidity_q3  avg_soil_temperature_q3  avg_soil_moisture_q3  \\\n",
       "0        81.035326                13.525861              0.474124   \n",
       "1        81.089674                15.644928              0.416095   \n",
       "2        83.466938                13.249366              0.432844   \n",
       "3        81.668931                15.242165              0.480356   \n",
       "4        85.091938                13.004801              0.472649   \n",
       "\n",
       "   avg_temperature_q4  avg_sunshine_duration_q4  avg_precipitation_q4  \\\n",
       "0           18.985870              34659.490870              4.454348   \n",
       "1           19.410870              35479.610978              6.150000   \n",
       "2           17.871739              38923.577935              3.016304   \n",
       "3           18.468478              31610.565109              7.048913   \n",
       "4           16.822826              38146.660000              2.823913   \n",
       "\n",
       "   avg_rain_q4  avg_humidity_q4  avg_soil_temperature_q4  avg_soil_moisture_q4  \n",
       "0     4.454348        79.113678                17.784466              0.441081  \n",
       "1     6.150000        81.992301                18.734375              0.472089  \n",
       "2     3.016304        75.854620                16.668614              0.430590  \n",
       "3     7.048913        82.246830                17.791033              0.473822  \n",
       "4     2.823913        78.979167                16.364629              0.449564  \n",
       "\n",
       "[5 rows x 30 columns]"
      ]
     },
     "execution_count": 8,
     "metadata": {},
     "output_type": "execute_result"
    }
   ],
   "source": [
    "# rename the column RegionID to Region\n",
    "weather_data.head()"
   ]
  },
  {
   "cell_type": "code",
   "execution_count": 9,
   "metadata": {},
   "outputs": [
    {
     "name": "stdout",
     "output_type": "stream",
     "text": [
      "(135702, 30)\n"
     ]
    }
   ],
   "source": [
    "print(weather_data.shape)"
   ]
  },
  {
   "cell_type": "code",
   "execution_count": 10,
   "metadata": {},
   "outputs": [
    {
     "name": "stdout",
     "output_type": "stream",
     "text": [
      "(589126, 42)\n"
     ]
    }
   ],
   "source": [
    "#Join the weather data with the pertinent_wine_ratings dataframe\n",
    "pertinent_wine_ratings_with_weather = pertinent_wine_ratings.merge(weather_data, left_on=['RegionID', 'Vintage'], right_on=['RegionID', 'year'])\n",
    "# Drop the column year\n",
    "pertinent_wine_ratings_with_weather = pertinent_wine_ratings_with_weather.drop(['year'], axis=1)\n",
    "\n",
    "print(pertinent_wine_ratings_with_weather.shape)"
   ]
  },
  {
   "cell_type": "code",
   "execution_count": 11,
   "metadata": {},
   "outputs": [
    {
     "name": "stdout",
     "output_type": "stream",
     "text": [
      "Index(['WineID', 'Vintage', 'RegionID', 'MinRating', 'MaxRating',\n",
      "       'AverageRating', 'CountRating', 'WineName', 'Type', 'Elaborate', 'ABV',\n",
      "       'Body', 'Acidity', 'Review', 'avg_temperature_q1',\n",
      "       'avg_sunshine_duration_q1', 'avg_precipitation_q1', 'avg_rain_q1',\n",
      "       'avg_humidity_q1', 'avg_soil_temperature_q1', 'avg_soil_moisture_q1',\n",
      "       'avg_temperature_q2', 'avg_sunshine_duration_q2',\n",
      "       'avg_precipitation_q2', 'avg_rain_q2', 'avg_humidity_q2',\n",
      "       'avg_soil_temperature_q2', 'avg_soil_moisture_q2', 'avg_temperature_q3',\n",
      "       'avg_sunshine_duration_q3', 'avg_precipitation_q3', 'avg_rain_q3',\n",
      "       'avg_humidity_q3', 'avg_soil_temperature_q3', 'avg_soil_moisture_q3',\n",
      "       'avg_temperature_q4', 'avg_sunshine_duration_q4',\n",
      "       'avg_precipitation_q4', 'avg_rain_q4', 'avg_humidity_q4',\n",
      "       'avg_soil_temperature_q4', 'avg_soil_moisture_q4'],\n",
      "      dtype='object')\n"
     ]
    }
   ],
   "source": [
    "print(pertinent_wine_ratings_with_weather.columns)"
   ]
  },
  {
   "cell_type": "markdown",
   "metadata": {},
   "source": [
    "# Create and train a doc2vec model on the colume 'review'"
   ]
  },
  {
   "cell_type": "code",
   "execution_count": 12,
   "metadata": {},
   "outputs": [
    {
     "name": "stdout",
     "output_type": "stream",
     "text": [
      "(9019, 14)\n"
     ]
    }
   ],
   "source": [
    "#drop null values in review column\n",
    "pertinent_ratings_non_null = pertinent_wine_ratings.dropna(subset=['Review'])\n",
    "print(pertinent_ratings_non_null.shape)"
   ]
  },
  {
   "cell_type": "code",
   "execution_count": 13,
   "metadata": {},
   "outputs": [
    {
     "name": "stdout",
     "output_type": "stream",
     "text": [
      "8699\n"
     ]
    }
   ],
   "source": [
    "reviews = pertinent_ratings_non_null['Review']\n",
    "unique_reviews = reviews.unique()\n",
    "\n",
    "#convert to pandas series\n",
    "unique_reviews = pd.Series(unique_reviews)\n",
    "print(len(unique_reviews))"
   ]
  },
  {
   "cell_type": "code",
   "execution_count": 14,
   "metadata": {},
   "outputs": [],
   "source": [
    "from nltk.corpus import stopwords\n",
    "stop_words = set(stopwords.words('english')) | set(stopwords.words('french')) | set(stopwords.words('spanish'))\n",
    "import string\n",
    "\n",
    "def clean_review_for_doc2vec(review):\n",
    "    #Clean the unique reviews series with lower case and remove punctuation\n",
    "    review = review.lower()\n",
    "    review = review.translate(str.maketrans('', '', string.punctuation))\n",
    "    #Remove stop words in each review\n",
    "    review = review.split()\n",
    "    review = [word for word in review if not word in stop_words]\n",
    "    review = ' '.join(review)\n",
    "    #remove emojis in each review\n",
    "    review = review.encode('ascii', 'ignore').decode('ascii')\n",
    "    return review\n",
    "\n",
    "unique_reviews_no_punctuation_no_stop_word = unique_reviews.apply(clean_review_for_doc2vec)"
   ]
  },
  {
   "cell_type": "code",
   "execution_count": 15,
   "metadata": {},
   "outputs": [
    {
     "name": "stdout",
     "output_type": "stream",
     "text": [
      "Qta. Manoella’s flagship cuvée; a field blend of 30+ varieties; 120+yo vines; 20m in 50% new oak. Tinta Francisca is unusually a high proportion of the blend.Deep ruby. Fantastic fragrance w. tobacco; leather & stylish fruit of black cherry & layered blackberry w. herbal notes. Developing w. loganberry & mulberry.Dry. V. rich & pure w. cherry; raspberry; loganberry; blueberry & black cherry. Generous m+ fine tannins; m+ acid; high alc; discreet oak & a huge finish. Outstanding wine w. power & elegance. \n",
      "qta manoellas flagship cuve field blend 30 varieties 120yo vines 20m 50 new oak tinta francisca unusually high proportion blenddeep ruby fantastic fragrance w tobacco leather stylish fruit black cherry layered blackberry w herbal notes developing w loganberry mulberrydry v rich pure w cherry raspberry loganberry blueberry black cherry generous fine tannins acid high alc discreet oak huge finish outstanding wine w power elegance\n"
     ]
    }
   ],
   "source": [
    "print(unique_reviews[1])\n",
    "print(unique_reviews_no_punctuation_no_stop_word[1])"
   ]
  },
  {
   "cell_type": "code",
   "execution_count": 16,
   "metadata": {},
   "outputs": [
    {
     "name": "stdout",
     "output_type": "stream",
     "text": [
      "69\n"
     ]
    }
   ],
   "source": [
    "#Find the longest review in unique_reviews\n",
    "max_len = 0\n",
    "for x in unique_reviews_no_punctuation_no_stop_word:\n",
    "    if len(x.split()) > max_len:\n",
    "        max_len = len(x.split())\n",
    "print(max_len)"
   ]
  },
  {
   "cell_type": "code",
   "execution_count": 17,
   "metadata": {},
   "outputs": [
    {
     "name": "stderr",
     "output_type": "stream",
     "text": [
      "c:\\Users\\PQV\\anaconda3\\envs\\fl\\lib\\site-packages\\paramiko\\transport.py:219: CryptographyDeprecationWarning: Blowfish has been deprecated\n",
      "  \"class\": algorithms.Blowfish,\n"
     ]
    }
   ],
   "source": [
    "from gensim.models.doc2vec import Doc2Vec,TaggedDocument\n",
    "from nltk.tokenize import word_tokenize\n",
    "\n",
    "# preproces the documents, and create TaggedDocuments\n",
    "tagged_data = [TaggedDocument(words=word_tokenize(doc.lower()),\n",
    "                              tags=[str(i)]) for i,\n",
    "               doc in enumerate(unique_reviews_no_punctuation_no_stop_word)]"
   ]
  },
  {
   "cell_type": "code",
   "execution_count": 18,
   "metadata": {},
   "outputs": [],
   "source": [
    "# train the Doc2vec model\n",
    "model = Doc2Vec(vector_size=100,\n",
    "                min_count=5, epochs=50)\n",
    "model.build_vocab(tagged_data)\n",
    "model.train(tagged_data,\n",
    "            total_examples=model.corpus_count,\n",
    "            epochs=model.epochs)"
   ]
  },
  {
   "cell_type": "code",
   "execution_count": 19,
   "metadata": {},
   "outputs": [],
   "source": [
    "# save the model\n",
    "model.save(\"./data/doc2vec.model\")"
   ]
  },
  {
   "cell_type": "code",
   "execution_count": 20,
   "metadata": {},
   "outputs": [],
   "source": [
    "# load the model\n",
    "model= Doc2Vec.load(\"./data/doc2vec.model\")"
   ]
  },
  {
   "cell_type": "code",
   "execution_count": 21,
   "metadata": {},
   "outputs": [
    {
     "name": "stdout",
     "output_type": "stream",
     "text": [
      "9019\n"
     ]
    }
   ],
   "source": [
    "cleaned_reviews = reviews.apply(clean_review_for_doc2vec)\n",
    "print(len(cleaned_reviews))"
   ]
  },
  {
   "cell_type": "code",
   "execution_count": 22,
   "metadata": {},
   "outputs": [],
   "source": [
    "# get the document vectors\n",
    "document_vectors = [model.infer_vector(\n",
    "    word_tokenize(doc)) for doc in cleaned_reviews]"
   ]
  },
  {
   "cell_type": "code",
   "execution_count": 23,
   "metadata": {},
   "outputs": [
    {
     "name": "stdout",
     "output_type": "stream",
     "text": [
      "(9019, 100)\n",
      "-2.999178886413574\n",
      "2.788770914077759\n"
     ]
    }
   ],
   "source": [
    "#convert document vectors to dataframe\n",
    "document_vectors_df = pd.DataFrame(document_vectors, columns=['doc2vec'+str(i) for i in range(len(document_vectors[0]))])\n",
    "print(document_vectors_df.shape)\n",
    "\n",
    "#find the min of each column\n",
    "print(min(document_vectors_df.min()))\n",
    "print(max(document_vectors_df.max()))"
   ]
  },
  {
   "cell_type": "code",
   "execution_count": 24,
   "metadata": {},
   "outputs": [
    {
     "name": "stdout",
     "output_type": "stream",
     "text": [
      "(9019, 2)\n",
      "(9019, 102)\n"
     ]
    }
   ],
   "source": [
    "#get the wineID and review columns from pertinent_wine_ratings\n",
    "key = pertinent_ratings_non_null[['WineID', 'Vintage']]\n",
    "print(key.shape)\n",
    "#concatenate key and document_vectors_df vertically\n",
    "wine_with_only_text_review = pd.concat([key.reset_index(drop=True),document_vectors_df.reset_index(drop=True)], axis=1)\n",
    "print(wine_with_only_text_review.shape)\n"
   ]
  },
  {
   "cell_type": "code",
   "execution_count": 25,
   "metadata": {},
   "outputs": [
    {
     "data": {
      "text/html": [
       "<div>\n",
       "<style scoped>\n",
       "    .dataframe tbody tr th:only-of-type {\n",
       "        vertical-align: middle;\n",
       "    }\n",
       "\n",
       "    .dataframe tbody tr th {\n",
       "        vertical-align: top;\n",
       "    }\n",
       "\n",
       "    .dataframe thead th {\n",
       "        text-align: right;\n",
       "    }\n",
       "</style>\n",
       "<table border=\"1\" class=\"dataframe\">\n",
       "  <thead>\n",
       "    <tr style=\"text-align: right;\">\n",
       "      <th></th>\n",
       "      <th>WineID</th>\n",
       "      <th>Vintage</th>\n",
       "      <th>doc2vec0</th>\n",
       "      <th>doc2vec1</th>\n",
       "      <th>doc2vec2</th>\n",
       "      <th>doc2vec3</th>\n",
       "      <th>doc2vec4</th>\n",
       "      <th>doc2vec5</th>\n",
       "      <th>doc2vec6</th>\n",
       "      <th>doc2vec7</th>\n",
       "      <th>...</th>\n",
       "      <th>doc2vec90</th>\n",
       "      <th>doc2vec91</th>\n",
       "      <th>doc2vec92</th>\n",
       "      <th>doc2vec93</th>\n",
       "      <th>doc2vec94</th>\n",
       "      <th>doc2vec95</th>\n",
       "      <th>doc2vec96</th>\n",
       "      <th>doc2vec97</th>\n",
       "      <th>doc2vec98</th>\n",
       "      <th>doc2vec99</th>\n",
       "    </tr>\n",
       "  </thead>\n",
       "  <tbody>\n",
       "    <tr>\n",
       "      <th>0</th>\n",
       "      <td>102356</td>\n",
       "      <td>2018</td>\n",
       "      <td>0.290220</td>\n",
       "      <td>-0.011338</td>\n",
       "      <td>-0.189252</td>\n",
       "      <td>-0.057820</td>\n",
       "      <td>0.153639</td>\n",
       "      <td>-0.122259</td>\n",
       "      <td>0.113350</td>\n",
       "      <td>0.388340</td>\n",
       "      <td>...</td>\n",
       "      <td>0.331812</td>\n",
       "      <td>0.201766</td>\n",
       "      <td>0.190081</td>\n",
       "      <td>0.071151</td>\n",
       "      <td>0.321292</td>\n",
       "      <td>0.101718</td>\n",
       "      <td>-0.149797</td>\n",
       "      <td>-0.185488</td>\n",
       "      <td>-0.119952</td>\n",
       "      <td>-0.275387</td>\n",
       "    </tr>\n",
       "    <tr>\n",
       "      <th>1</th>\n",
       "      <td>106708</td>\n",
       "      <td>2003</td>\n",
       "      <td>-0.089383</td>\n",
       "      <td>0.054382</td>\n",
       "      <td>0.062755</td>\n",
       "      <td>-0.179166</td>\n",
       "      <td>0.044109</td>\n",
       "      <td>-0.455499</td>\n",
       "      <td>-0.143945</td>\n",
       "      <td>0.204784</td>\n",
       "      <td>...</td>\n",
       "      <td>0.496100</td>\n",
       "      <td>0.151388</td>\n",
       "      <td>0.166101</td>\n",
       "      <td>-0.242069</td>\n",
       "      <td>0.141854</td>\n",
       "      <td>0.108114</td>\n",
       "      <td>0.255348</td>\n",
       "      <td>0.294401</td>\n",
       "      <td>-0.062213</td>\n",
       "      <td>-0.166894</td>\n",
       "    </tr>\n",
       "    <tr>\n",
       "      <th>2</th>\n",
       "      <td>106708</td>\n",
       "      <td>2005</td>\n",
       "      <td>-0.033086</td>\n",
       "      <td>-0.065051</td>\n",
       "      <td>0.019677</td>\n",
       "      <td>-0.084368</td>\n",
       "      <td>0.150466</td>\n",
       "      <td>-0.355369</td>\n",
       "      <td>-0.059719</td>\n",
       "      <td>0.381410</td>\n",
       "      <td>...</td>\n",
       "      <td>0.421397</td>\n",
       "      <td>0.141658</td>\n",
       "      <td>0.148582</td>\n",
       "      <td>-0.049243</td>\n",
       "      <td>0.229048</td>\n",
       "      <td>0.177663</td>\n",
       "      <td>0.361918</td>\n",
       "      <td>0.166308</td>\n",
       "      <td>-0.115154</td>\n",
       "      <td>-0.123542</td>\n",
       "    </tr>\n",
       "    <tr>\n",
       "      <th>3</th>\n",
       "      <td>106791</td>\n",
       "      <td>2020</td>\n",
       "      <td>-0.011586</td>\n",
       "      <td>-0.204684</td>\n",
       "      <td>-0.081152</td>\n",
       "      <td>0.020905</td>\n",
       "      <td>0.067649</td>\n",
       "      <td>-0.161948</td>\n",
       "      <td>0.049679</td>\n",
       "      <td>0.308426</td>\n",
       "      <td>...</td>\n",
       "      <td>0.422729</td>\n",
       "      <td>0.132614</td>\n",
       "      <td>0.181151</td>\n",
       "      <td>-0.063518</td>\n",
       "      <td>-0.040888</td>\n",
       "      <td>0.092357</td>\n",
       "      <td>0.174423</td>\n",
       "      <td>0.052632</td>\n",
       "      <td>-0.240256</td>\n",
       "      <td>-0.030956</td>\n",
       "    </tr>\n",
       "    <tr>\n",
       "      <th>4</th>\n",
       "      <td>107349</td>\n",
       "      <td>2012</td>\n",
       "      <td>0.185639</td>\n",
       "      <td>-0.085105</td>\n",
       "      <td>-0.110855</td>\n",
       "      <td>-0.119400</td>\n",
       "      <td>-0.046668</td>\n",
       "      <td>-0.165694</td>\n",
       "      <td>-0.122176</td>\n",
       "      <td>0.299707</td>\n",
       "      <td>...</td>\n",
       "      <td>0.218933</td>\n",
       "      <td>0.043578</td>\n",
       "      <td>0.156835</td>\n",
       "      <td>0.005912</td>\n",
       "      <td>0.009032</td>\n",
       "      <td>0.091719</td>\n",
       "      <td>-0.022649</td>\n",
       "      <td>-0.120330</td>\n",
       "      <td>0.051879</td>\n",
       "      <td>-0.147983</td>\n",
       "    </tr>\n",
       "  </tbody>\n",
       "</table>\n",
       "<p>5 rows × 102 columns</p>\n",
       "</div>"
      ],
      "text/plain": [
       "   WineID  Vintage  doc2vec0  doc2vec1  doc2vec2  doc2vec3  doc2vec4  \\\n",
       "0  102356     2018  0.290220 -0.011338 -0.189252 -0.057820  0.153639   \n",
       "1  106708     2003 -0.089383  0.054382  0.062755 -0.179166  0.044109   \n",
       "2  106708     2005 -0.033086 -0.065051  0.019677 -0.084368  0.150466   \n",
       "3  106791     2020 -0.011586 -0.204684 -0.081152  0.020905  0.067649   \n",
       "4  107349     2012  0.185639 -0.085105 -0.110855 -0.119400 -0.046668   \n",
       "\n",
       "   doc2vec5  doc2vec6  doc2vec7  ...  doc2vec90  doc2vec91  doc2vec92  \\\n",
       "0 -0.122259  0.113350  0.388340  ...   0.331812   0.201766   0.190081   \n",
       "1 -0.455499 -0.143945  0.204784  ...   0.496100   0.151388   0.166101   \n",
       "2 -0.355369 -0.059719  0.381410  ...   0.421397   0.141658   0.148582   \n",
       "3 -0.161948  0.049679  0.308426  ...   0.422729   0.132614   0.181151   \n",
       "4 -0.165694 -0.122176  0.299707  ...   0.218933   0.043578   0.156835   \n",
       "\n",
       "   doc2vec93  doc2vec94  doc2vec95  doc2vec96  doc2vec97  doc2vec98  doc2vec99  \n",
       "0   0.071151   0.321292   0.101718  -0.149797  -0.185488  -0.119952  -0.275387  \n",
       "1  -0.242069   0.141854   0.108114   0.255348   0.294401  -0.062213  -0.166894  \n",
       "2  -0.049243   0.229048   0.177663   0.361918   0.166308  -0.115154  -0.123542  \n",
       "3  -0.063518  -0.040888   0.092357   0.174423   0.052632  -0.240256  -0.030956  \n",
       "4   0.005912   0.009032   0.091719  -0.022649  -0.120330   0.051879  -0.147983  \n",
       "\n",
       "[5 rows x 102 columns]"
      ]
     },
     "execution_count": 25,
     "metadata": {},
     "output_type": "execute_result"
    }
   ],
   "source": [
    "#aggregate the document vectors by wineID and vintage -> average\n",
    "aggregated_doc_vector = wine_with_only_text_review.groupby(['WineID', 'Vintage']).mean().reset_index()\n",
    "\n",
    "aggregated_doc_vector.head()"
   ]
  },
  {
   "cell_type": "code",
   "execution_count": 26,
   "metadata": {},
   "outputs": [
    {
     "name": "stdout",
     "output_type": "stream",
     "text": [
      "(451, 102)\n"
     ]
    }
   ],
   "source": [
    "print(aggregated_doc_vector.shape)"
   ]
  },
  {
   "cell_type": "markdown",
   "metadata": {},
   "source": [
    "# Comparison models"
   ]
  },
  {
   "cell_type": "markdown",
   "metadata": {},
   "source": [
    "Let's separate the data that can be calculate with a distance from the others"
   ]
  },
  {
   "cell_type": "code",
   "execution_count": 27,
   "metadata": {},
   "outputs": [
    {
     "name": "stdout",
     "output_type": "stream",
     "text": [
      "(580596, 36)\n"
     ]
    }
   ],
   "source": [
    "data_to_normalize = pertinent_wine_ratings_with_weather.drop(['RegionID', 'MinRating', 'MaxRating','Type','CountRating', 'Review'], axis=1)\n",
    "data_to_normalize.dropna(inplace=True)\n",
    "data_to_normalize.drop_duplicates(inplace=True)\n",
    "print(data_to_normalize.shape) "
   ]
  },
  {
   "cell_type": "code",
   "execution_count": 28,
   "metadata": {},
   "outputs": [
    {
     "name": "stdout",
     "output_type": "stream",
     "text": [
      "Index(['WineID', 'Vintage', 'AverageRating', 'WineName', 'Elaborate', 'ABV',\n",
      "       'Body', 'Acidity', 'avg_temperature_q1', 'avg_sunshine_duration_q1',\n",
      "       'avg_precipitation_q1', 'avg_rain_q1', 'avg_humidity_q1',\n",
      "       'avg_soil_temperature_q1', 'avg_soil_moisture_q1', 'avg_temperature_q2',\n",
      "       'avg_sunshine_duration_q2', 'avg_precipitation_q2', 'avg_rain_q2',\n",
      "       'avg_humidity_q2', 'avg_soil_temperature_q2', 'avg_soil_moisture_q2',\n",
      "       'avg_temperature_q3', 'avg_sunshine_duration_q3',\n",
      "       'avg_precipitation_q3', 'avg_rain_q3', 'avg_humidity_q3',\n",
      "       'avg_soil_temperature_q3', 'avg_soil_moisture_q3', 'avg_temperature_q4',\n",
      "       'avg_sunshine_duration_q4', 'avg_precipitation_q4', 'avg_rain_q4',\n",
      "       'avg_humidity_q4', 'avg_soil_temperature_q4', 'avg_soil_moisture_q4'],\n",
      "      dtype='object')\n"
     ]
    }
   ],
   "source": [
    "print(data_to_normalize.columns)"
   ]
  },
  {
   "cell_type": "markdown",
   "metadata": {},
   "source": [
    "### Encode categorical data"
   ]
  },
  {
   "cell_type": "code",
   "execution_count": 29,
   "metadata": {},
   "outputs": [
    {
     "name": "stdout",
     "output_type": "stream",
     "text": [
      "['High' 'Medium' 'Low']\n",
      "['Medium-bodied' 'Full-bodied' 'Light-bodied' 'Very light-bodied'\n",
      " 'Very full-bodied']\n",
      "['Varietal/100%' 'Assemblage/Bordeaux Red Blend' 'Assemblage/Blend'\n",
      " 'Assemblage/Portuguese Red Blend' 'Assemblage/Portuguese White Blend'\n",
      " 'Varietal/>75%' 'Assemblage/Port Blend' 'Assemblage/Champagne Blend'\n",
      " 'Assemblage/Rhône Red Blend' 'Assemblage/Tuscan Red Blend'\n",
      " 'Assemblage/Chianti Red Blend' 'Assemblage/Valpolicella Red Blend'\n",
      " 'Assemblage/Bourgogne Red Blend' 'Assemblage/Meritage Red Blend'\n",
      " 'Assemblage/Provence Rosé Blend' 'Assemblage/Soave White Blend'\n",
      " 'Assemblage/Rioja Red Blend' 'Assemblage/Rioja White Blend'\n",
      " 'Assemblage/Cava Blend' 'Assemblage/Priorat Red Blend'\n",
      " 'Assemblage/Bourgogne White Blend' 'Assemblage/Meritage White Blend']\n"
     ]
    }
   ],
   "source": [
    "#create the dictionary for the categorical variables\n",
    "\n",
    "acid = data_to_normalize['Acidity'].unique()\n",
    "print(acid)\n",
    "\n",
    "body = data_to_normalize['Body'].unique()\n",
    "print(body)\n",
    "\n",
    "elaborate = data_to_normalize['Elaborate'].unique()\n",
    "print(elaborate)\n",
    "\n",
    "acid_dict = {'Low': 1, 'Medium': 2, 'High': 3}\n",
    "body_dict = {'Very light-bodied': 1, 'Light-bodied': 2, 'Medium-bodied': 3, 'Full-bodied': 4, 'Very full-bodied': 5}\n",
    "elaborat_dict = {'Varietal/100%':1, 'Varietal/>75%': 2, 'Assemblage/Blend' : 3,\n",
    "                 'Assemblage/Meritage Red Blend':4, 'Assemblage/Meritage White Blend': 5, \n",
    "                 'Assemblage/Rhône Red Blend':6, 'Assemblage/Bordeaux Red Blend':7 , \n",
    "                 'Assemblage/Bourgogne Red Blend': 8, 'Assemblage/Bourgogne White Blend': 9, 'Assemblage/Portuguese White Blend': 10, \n",
    "                 'Assemblage/Portuguese Red Blend': 11, 'Assemblage/Port Blend': 12,  \n",
    "                 'Assemblage/Provence Rosé Blend' :13, 'Assemblage/Champagne Blend': 14, 'Assemblage/Valpolicella Red Blend': 15,\n",
    "                 'Assemblage/Chianti Red Blend': 16, 'Assemblage/Tuscan Red Blend': 17, 'Assemblage/Rioja Red Blend': 18, \n",
    "                 'Assemblage/Rioja White Blend' : 19, 'Assemblage/Priorat Red Blend': 20,\n",
    "                 'Assemblage/Cava Blend': 21, 'Assemblage/Soave White Blend': 22\n",
    "                 }"
   ]
  },
  {
   "cell_type": "code",
   "execution_count": 30,
   "metadata": {},
   "outputs": [
    {
     "data": {
      "text/html": [
       "<div>\n",
       "<style scoped>\n",
       "    .dataframe tbody tr th:only-of-type {\n",
       "        vertical-align: middle;\n",
       "    }\n",
       "\n",
       "    .dataframe tbody tr th {\n",
       "        vertical-align: top;\n",
       "    }\n",
       "\n",
       "    .dataframe thead th {\n",
       "        text-align: right;\n",
       "    }\n",
       "</style>\n",
       "<table border=\"1\" class=\"dataframe\">\n",
       "  <thead>\n",
       "    <tr style=\"text-align: right;\">\n",
       "      <th></th>\n",
       "      <th>WineID</th>\n",
       "      <th>Vintage</th>\n",
       "      <th>AverageRating</th>\n",
       "      <th>WineName</th>\n",
       "      <th>Elaborate</th>\n",
       "      <th>ABV</th>\n",
       "      <th>Body</th>\n",
       "      <th>Acidity</th>\n",
       "      <th>avg_temperature_q1</th>\n",
       "      <th>avg_sunshine_duration_q1</th>\n",
       "      <th>...</th>\n",
       "      <th>avg_humidity_q3</th>\n",
       "      <th>avg_soil_temperature_q3</th>\n",
       "      <th>avg_soil_moisture_q3</th>\n",
       "      <th>avg_temperature_q4</th>\n",
       "      <th>avg_sunshine_duration_q4</th>\n",
       "      <th>avg_precipitation_q4</th>\n",
       "      <th>avg_rain_q4</th>\n",
       "      <th>avg_humidity_q4</th>\n",
       "      <th>avg_soil_temperature_q4</th>\n",
       "      <th>avg_soil_moisture_q4</th>\n",
       "    </tr>\n",
       "  </thead>\n",
       "  <tbody>\n",
       "    <tr>\n",
       "      <th>0</th>\n",
       "      <td>100001</td>\n",
       "      <td>2008</td>\n",
       "      <td>3.630952</td>\n",
       "      <td>Espumante Moscatel</td>\n",
       "      <td>1</td>\n",
       "      <td>7.5</td>\n",
       "      <td>3</td>\n",
       "      <td>3</td>\n",
       "      <td>25.573626</td>\n",
       "      <td>30360.556484</td>\n",
       "      <td>...</td>\n",
       "      <td>37.162138</td>\n",
       "      <td>27.622464</td>\n",
       "      <td>0.343988</td>\n",
       "      <td>27.552174</td>\n",
       "      <td>35326.731848</td>\n",
       "      <td>5.734783</td>\n",
       "      <td>5.734783</td>\n",
       "      <td>70.893116</td>\n",
       "      <td>28.655389</td>\n",
       "      <td>0.375222</td>\n",
       "    </tr>\n",
       "    <tr>\n",
       "      <th>1</th>\n",
       "      <td>100005</td>\n",
       "      <td>2008</td>\n",
       "      <td>2.946429</td>\n",
       "      <td>Maison de Ville Cabernet-Merlot</td>\n",
       "      <td>7</td>\n",
       "      <td>11.0</td>\n",
       "      <td>4</td>\n",
       "      <td>2</td>\n",
       "      <td>25.573626</td>\n",
       "      <td>30360.556484</td>\n",
       "      <td>...</td>\n",
       "      <td>37.162138</td>\n",
       "      <td>27.622464</td>\n",
       "      <td>0.343988</td>\n",
       "      <td>27.552174</td>\n",
       "      <td>35326.731848</td>\n",
       "      <td>5.734783</td>\n",
       "      <td>5.734783</td>\n",
       "      <td>70.893116</td>\n",
       "      <td>28.655389</td>\n",
       "      <td>0.375222</td>\n",
       "    </tr>\n",
       "    <tr>\n",
       "      <th>2</th>\n",
       "      <td>100006</td>\n",
       "      <td>2008</td>\n",
       "      <td>3.378788</td>\n",
       "      <td>Reserva Cabernet Sauvignon</td>\n",
       "      <td>1</td>\n",
       "      <td>12.5</td>\n",
       "      <td>4</td>\n",
       "      <td>3</td>\n",
       "      <td>25.573626</td>\n",
       "      <td>30360.556484</td>\n",
       "      <td>...</td>\n",
       "      <td>37.162138</td>\n",
       "      <td>27.622464</td>\n",
       "      <td>0.343988</td>\n",
       "      <td>27.552174</td>\n",
       "      <td>35326.731848</td>\n",
       "      <td>5.734783</td>\n",
       "      <td>5.734783</td>\n",
       "      <td>70.893116</td>\n",
       "      <td>28.655389</td>\n",
       "      <td>0.375222</td>\n",
       "    </tr>\n",
       "    <tr>\n",
       "      <th>3</th>\n",
       "      <td>100016</td>\n",
       "      <td>2008</td>\n",
       "      <td>2.713415</td>\n",
       "      <td>Acquasantiera Tinto Seco Fino</td>\n",
       "      <td>3</td>\n",
       "      <td>11.0</td>\n",
       "      <td>3</td>\n",
       "      <td>1</td>\n",
       "      <td>25.573626</td>\n",
       "      <td>30360.556484</td>\n",
       "      <td>...</td>\n",
       "      <td>37.162138</td>\n",
       "      <td>27.622464</td>\n",
       "      <td>0.343988</td>\n",
       "      <td>27.552174</td>\n",
       "      <td>35326.731848</td>\n",
       "      <td>5.734783</td>\n",
       "      <td>5.734783</td>\n",
       "      <td>70.893116</td>\n",
       "      <td>28.655389</td>\n",
       "      <td>0.375222</td>\n",
       "    </tr>\n",
       "    <tr>\n",
       "      <th>4</th>\n",
       "      <td>100025</td>\n",
       "      <td>2008</td>\n",
       "      <td>3.500000</td>\n",
       "      <td>Espumante Método Charmat Brut</td>\n",
       "      <td>3</td>\n",
       "      <td>12.0</td>\n",
       "      <td>3</td>\n",
       "      <td>3</td>\n",
       "      <td>25.573626</td>\n",
       "      <td>30360.556484</td>\n",
       "      <td>...</td>\n",
       "      <td>37.162138</td>\n",
       "      <td>27.622464</td>\n",
       "      <td>0.343988</td>\n",
       "      <td>27.552174</td>\n",
       "      <td>35326.731848</td>\n",
       "      <td>5.734783</td>\n",
       "      <td>5.734783</td>\n",
       "      <td>70.893116</td>\n",
       "      <td>28.655389</td>\n",
       "      <td>0.375222</td>\n",
       "    </tr>\n",
       "  </tbody>\n",
       "</table>\n",
       "<p>5 rows × 36 columns</p>\n",
       "</div>"
      ],
      "text/plain": [
       "   WineID  Vintage  AverageRating                         WineName  Elaborate  \\\n",
       "0  100001     2008       3.630952               Espumante Moscatel          1   \n",
       "1  100005     2008       2.946429  Maison de Ville Cabernet-Merlot          7   \n",
       "2  100006     2008       3.378788       Reserva Cabernet Sauvignon          1   \n",
       "3  100016     2008       2.713415    Acquasantiera Tinto Seco Fino          3   \n",
       "4  100025     2008       3.500000    Espumante Método Charmat Brut          3   \n",
       "\n",
       "    ABV  Body  Acidity  avg_temperature_q1  avg_sunshine_duration_q1  ...  \\\n",
       "0   7.5     3        3           25.573626              30360.556484  ...   \n",
       "1  11.0     4        2           25.573626              30360.556484  ...   \n",
       "2  12.5     4        3           25.573626              30360.556484  ...   \n",
       "3  11.0     3        1           25.573626              30360.556484  ...   \n",
       "4  12.0     3        3           25.573626              30360.556484  ...   \n",
       "\n",
       "   avg_humidity_q3  avg_soil_temperature_q3  avg_soil_moisture_q3  \\\n",
       "0        37.162138                27.622464              0.343988   \n",
       "1        37.162138                27.622464              0.343988   \n",
       "2        37.162138                27.622464              0.343988   \n",
       "3        37.162138                27.622464              0.343988   \n",
       "4        37.162138                27.622464              0.343988   \n",
       "\n",
       "   avg_temperature_q4  avg_sunshine_duration_q4  avg_precipitation_q4  \\\n",
       "0           27.552174              35326.731848              5.734783   \n",
       "1           27.552174              35326.731848              5.734783   \n",
       "2           27.552174              35326.731848              5.734783   \n",
       "3           27.552174              35326.731848              5.734783   \n",
       "4           27.552174              35326.731848              5.734783   \n",
       "\n",
       "   avg_rain_q4  avg_humidity_q4  avg_soil_temperature_q4  avg_soil_moisture_q4  \n",
       "0     5.734783        70.893116                28.655389              0.375222  \n",
       "1     5.734783        70.893116                28.655389              0.375222  \n",
       "2     5.734783        70.893116                28.655389              0.375222  \n",
       "3     5.734783        70.893116                28.655389              0.375222  \n",
       "4     5.734783        70.893116                28.655389              0.375222  \n",
       "\n",
       "[5 rows x 36 columns]"
      ]
     },
     "execution_count": 30,
     "metadata": {},
     "output_type": "execute_result"
    }
   ],
   "source": [
    "## Label Encoding\n",
    "data_to_normalize['Body'] = data_to_normalize['Body'].map(body_dict)\n",
    "data_to_normalize['Acidity'] = data_to_normalize['Acidity'].map(acid_dict)\n",
    "data_to_normalize['Elaborate'] = data_to_normalize['Elaborate'].map(elaborat_dict)\n",
    "\n",
    "data_to_normalize.head()"
   ]
  },
  {
   "cell_type": "markdown",
   "metadata": {},
   "source": [
    "### Normalize the data"
   ]
  },
  {
   "cell_type": "code",
   "execution_count": 31,
   "metadata": {},
   "outputs": [],
   "source": [
    "# The wine_dataset must contain the following columns: ['WineID','Vintage', 'WineName']. \n",
    "# The other columns are the features.\n",
    "def normalize_wine_data(wine_dataset):\n",
    "    ## Select Features and Target\n",
    "    features = wine_dataset.drop(['WineID','Vintage', 'WineName'], axis=1)\n",
    "    targets = wine_dataset[['WineID','Vintage', 'WineName']]\n",
    "    ## Normalize Features\n",
    "    for column in features.columns:\n",
    "        features[column] = (features[column] - features[column].min()) / (features[column].max() - features[column].min())\n",
    "    ## Return normalized dataset\n",
    "    normalized_df = pd.concat([targets.reset_index(drop=True),features.reset_index(drop=True)], axis=1)\n",
    "    return normalized_df"
   ]
  },
  {
   "cell_type": "code",
   "execution_count": 32,
   "metadata": {},
   "outputs": [
    {
     "name": "stdout",
     "output_type": "stream",
     "text": [
      "(580596, 36)\n",
      "   WineID  Vintage                         WineName  AverageRating  Elaborate  \\\n",
      "0  100001     2008               Espumante Moscatel       0.657738   0.000000   \n",
      "1  100005     2008  Maison de Ville Cabernet-Merlot       0.486607   0.285714   \n",
      "2  100006     2008       Reserva Cabernet Sauvignon       0.594697   0.000000   \n",
      "3  100016     2008    Acquasantiera Tinto Seco Fino       0.428354   0.095238   \n",
      "4  100025     2008    Espumante Método Charmat Brut       0.625000   0.095238   \n",
      "\n",
      "        ABV  Body  Acidity  avg_temperature_q1  avg_sunshine_duration_q1  ...  \\\n",
      "0  0.156250  0.50      1.0            0.895089                  0.564763  ...   \n",
      "1  0.229167  0.75      0.5            0.895089                  0.564763  ...   \n",
      "2  0.260417  0.75      1.0            0.895089                  0.564763  ...   \n",
      "3  0.229167  0.50      0.0            0.895089                  0.564763  ...   \n",
      "4  0.250000  0.50      1.0            0.895089                  0.564763  ...   \n",
      "\n",
      "   avg_humidity_q3  avg_soil_temperature_q3  avg_soil_moisture_q3  \\\n",
      "0         0.276618                 0.801377              0.515582   \n",
      "1         0.276618                 0.801377              0.515582   \n",
      "2         0.276618                 0.801377              0.515582   \n",
      "3         0.276618                 0.801377              0.515582   \n",
      "4         0.276618                 0.801377              0.515582   \n",
      "\n",
      "   avg_temperature_q4  avg_sunshine_duration_q4  avg_precipitation_q4  \\\n",
      "0            0.949598                  0.728786              0.394999   \n",
      "1            0.949598                  0.728786              0.394999   \n",
      "2            0.949598                  0.728786              0.394999   \n",
      "3            0.949598                  0.728786              0.394999   \n",
      "4            0.949598                  0.728786              0.394999   \n",
      "\n",
      "   avg_rain_q4  avg_humidity_q4  avg_soil_temperature_q4  avg_soil_moisture_q4  \n",
      "0     0.407005         0.705846                  0.91813              0.546689  \n",
      "1     0.407005         0.705846                  0.91813              0.546689  \n",
      "2     0.407005         0.705846                  0.91813              0.546689  \n",
      "3     0.407005         0.705846                  0.91813              0.546689  \n",
      "4     0.407005         0.705846                  0.91813              0.546689  \n",
      "\n",
      "[5 rows x 36 columns]\n"
     ]
    }
   ],
   "source": [
    "# Normalize the data\n",
    "normalized_wine_data = normalize_wine_data(data_to_normalize)\n",
    "print(normalized_wine_data.shape)\n",
    "print(normalized_wine_data.head())"
   ]
  },
  {
   "cell_type": "code",
   "execution_count": 33,
   "metadata": {},
   "outputs": [
    {
     "name": "stdout",
     "output_type": "stream",
     "text": [
      "(580596, 33)\n"
     ]
    }
   ],
   "source": [
    "normalized_wine_name_data = normalized_wine_data[['WineID', 'Vintage', 'WineName']]\n",
    "normalized_wine_calculate_data = normalized_wine_data.drop(['WineID', 'Vintage', 'WineName'], axis=1)\n",
    "print(normalized_wine_calculate_data.shape)"
   ]
  },
  {
   "cell_type": "code",
   "execution_count": 101,
   "metadata": {},
   "outputs": [],
   "source": [
    "normalized_wine_calculate_data[['Elaborate', 'ABV', 'Body', 'Acidity']] = normalized_wine_calculate_data[['Elaborate', 'ABV', 'Body', 'Acidity']] * WEIGTH_COMPOSITION_VS_WEATHER"
   ]
  },
  {
   "cell_type": "markdown",
   "metadata": {},
   "source": [
    "### Now let's add Doc2Vec vector"
   ]
  },
  {
   "cell_type": "code",
   "execution_count": 34,
   "metadata": {},
   "outputs": [
    {
     "name": "stdout",
     "output_type": "stream",
     "text": [
      "(451, 100)\n"
     ]
    }
   ],
   "source": [
    "wine_text_review_vec = aggregated_doc_vector.copy()\n",
    "wine_name_data = wine_text_review_vec[['WineID', 'Vintage']]\n",
    "wine_vec = wine_text_review_vec.drop(['WineID', 'Vintage'], axis=1)\n",
    "\n",
    "print(wine_vec.shape)"
   ]
  },
  {
   "cell_type": "markdown",
   "metadata": {},
   "source": [
    "# Now, let's compare using KD Tree"
   ]
  },
  {
   "cell_type": "code",
   "execution_count": 85,
   "metadata": {},
   "outputs": [],
   "source": [
    "wine_id = 142614\n",
    "vintage = 2017"
   ]
  },
  {
   "cell_type": "code",
   "execution_count": 86,
   "metadata": {},
   "outputs": [
    {
     "name": "stdout",
     "output_type": "stream",
     "text": [
      "Wine ID found with no text review\n"
     ]
    }
   ],
   "source": [
    "have_text_review = False\n",
    "if ((normalized_wine_data['WineID'] == wine_id) & (normalized_wine_data['Vintage'] == vintage)).any():\n",
    "    reference_wine_composition_and_weather = normalized_wine_data.loc[(normalized_wine_data['WineID'] == wine_id) & (normalized_wine_data['Vintage'] == vintage)] \n",
    "    if ((wine_text_review_vec['WineID'] == wine_id) & (wine_text_review_vec['Vintage'] == vintage)).any():\n",
    "        print(\"Wine ID found wirh text review\")\n",
    "        have_text_review = True\n",
    "        reference_wine_text_review = wine_text_review_vec.loc[(wine_text_review_vec['WineID'] == wine_id) & (wine_text_review_vec['Vintage'] == vintage)]\n",
    "    else:\n",
    "        print(\"Wine ID found with no text review\")\n",
    "else:\n",
    "    print(\"Wine ID not found\")"
   ]
  },
  {
   "cell_type": "code",
   "execution_count": 87,
   "metadata": {},
   "outputs": [
    {
     "name": "stdout",
     "output_type": "stream",
     "text": [
      "[[0.5945122  0.66666667 0.25       0.75       1.         0.54405385\n",
      "  0.40569251 0.09012778 0.08766184 0.81232023 0.32473132 0.68001344\n",
      "  0.59010407 0.81412296 0.24153938 0.26840835 0.67183994 0.53969611\n",
      "  0.52174345 0.67435485 0.83549295 0.17830114 0.17830114 0.69440304\n",
      "  0.63617212 0.51273096 0.55646113 0.39139931 0.12128472 0.1163311\n",
      "  0.85341554 0.4286231  0.62489747]]\n"
     ]
    }
   ],
   "source": [
    "input_wine_composition_and_weather = reference_wine_composition_and_weather.drop(['WineID','Vintage', 'WineName'], axis=1).to_numpy().reshape(1,-1)\n",
    "print(input_wine_composition_and_weather)\n",
    "\n",
    "if have_text_review:\n",
    "    input_wine_text_review = reference_wine_text_review.drop(['WineID','Vintage'], axis=1).to_numpy().reshape(1,-1)\n",
    "    print(input_wine_text_review.shape)"
   ]
  },
  {
   "cell_type": "code",
   "execution_count": 88,
   "metadata": {},
   "outputs": [],
   "source": [
    "from sklearn.neighbors import KDTree\n",
    "# Build the KD Tree\n",
    "wine_composition_weather_tree = KDTree(normalized_wine_calculate_data, metric='euclidean')\n",
    "\n",
    "if have_text_review:\n",
    "    wine_text_review_tree = KDTree(wine_vec, metric='euclidean')"
   ]
  },
  {
   "cell_type": "code",
   "execution_count": 89,
   "metadata": {},
   "outputs": [
    {
     "name": "stdout",
     "output_type": "stream",
     "text": [
      "(1, 580596)\n",
      "[[370483 296005 384335 ... 492925 492926 496281]]\n"
     ]
    }
   ],
   "source": [
    "# Query the KD Tree\n",
    "dist_composition_weather, ind_composition_weather = wine_composition_weather_tree.query(input_wine_composition_and_weather, k=len(normalized_wine_calculate_data))\n",
    "\n",
    "if have_text_review:\n",
    "    dist_text_review, ind_text_review = wine_text_review_tree.query(input_wine_text_review, k=len(wine_vec))\n",
    "\n",
    "# Print the results\n",
    "print(dist_composition_weather.shape)\n",
    "print(ind_composition_weather)\n",
    "\n",
    "if have_text_review:\n",
    "    print(dist_text_review.shape)\n",
    "    print(ind_text_review.shape)"
   ]
  },
  {
   "cell_type": "code",
   "execution_count": 90,
   "metadata": {},
   "outputs": [
    {
     "name": "stdout",
     "output_type": "stream",
     "text": [
      "1.2056353469036445\n"
     ]
    }
   ],
   "source": [
    "# create a dictionary with ind as key and dist as value\n",
    "dict_composition_weather_wine = dict(zip(ind_composition_weather[0], dist_composition_weather[0]))\n",
    "print(dict_composition_weather_wine[53405])\n",
    "\n",
    "if have_text_review:\n",
    "    dict_text_review_wine = dict(zip(ind_text_review[0], dist_text_review[0]))"
   ]
  },
  {
   "cell_type": "code",
   "execution_count": 91,
   "metadata": {},
   "outputs": [
    {
     "name": "stdout",
     "output_type": "stream",
     "text": [
      "   WineID  Vintage                         WineName  distance1\n",
      "0  100001     2008               Espumante Moscatel   1.722410\n",
      "1  100005     2008  Maison de Ville Cabernet-Merlot   1.689428\n",
      "2  100006     2008       Reserva Cabernet Sauvignon   1.700446\n",
      "3  100016     2008    Acquasantiera Tinto Seco Fino   1.965715\n",
      "4  100025     2008    Espumante Método Charmat Brut   1.684317\n",
      "2.476296459913074\n"
     ]
    },
    {
     "name": "stderr",
     "output_type": "stream",
     "text": [
      "C:\\Users\\PQV\\AppData\\Local\\Temp\\ipykernel_10032\\3945777354.py:3: SettingWithCopyWarning: \n",
      "A value is trying to be set on a copy of a slice from a DataFrame.\n",
      "Try using .loc[row_indexer,col_indexer] = value instead\n",
      "\n",
      "See the caveats in the documentation: https://pandas.pydata.org/pandas-docs/stable/user_guide/indexing.html#returning-a-view-versus-a-copy\n",
      "  normalized_wine_name_data['distance1'] = normalized_wine_data.index.map(dict_composition_weather_wine)\n"
     ]
    }
   ],
   "source": [
    "# merge dictionary with normalized_wine_data with the value of the key is the index of the row in normalized_wine_data\n",
    "# and the value is the distance\n",
    "normalized_wine_name_data['distance1'] = normalized_wine_data.index.map(dict_composition_weather_wine)\n",
    "print(normalized_wine_name_data.head())\n",
    "\n",
    "# find max of distance1\n",
    "max_distance1 = normalized_wine_name_data['distance1'].max()\n",
    "print(max_distance1)"
   ]
  },
  {
   "cell_type": "code",
   "execution_count": 92,
   "metadata": {},
   "outputs": [],
   "source": [
    "if have_text_review:\n",
    "    wine_name_data['distance2'] = wine_text_review_vec.index.map(dict_text_review_wine)\n",
    "    print(wine_name_data.head())\n",
    "\n",
    "    # find max of distance2\n",
    "    max_distance2 = wine_name_data['distance2'].max()\n",
    "    print(max_distance2)"
   ]
  },
  {
   "cell_type": "code",
   "execution_count": 93,
   "metadata": {},
   "outputs": [],
   "source": [
    "# Merge the datasets based on 'Name' and 'Age'\n",
    "merged_wine_data = pd.merge(normalized_wine_name_data, wine_name_data, on=['WineID', 'Vintage'],how='left')\n",
    "\n",
    "if have_text_review:\n",
    "    # Fill null values with 0 before adding 'ScoreDay1' and 'ScoreDay2'\n",
    "    merged_wine_data['distance'] = merged_wine_data['distance1'].fillna(0) + merged_wine_data['distance2'].fillna(0)\n",
    "\n",
    "    # Drop the redundant 'ScoreDay1' and 'ScoreDay2' columns if needed\n",
    "    merged_wine_data = merged_wine_data.drop(['distance1', 'distance2'], axis=1)"
   ]
  },
  {
   "cell_type": "code",
   "execution_count": 94,
   "metadata": {},
   "outputs": [
    {
     "name": "stdout",
     "output_type": "stream",
     "text": [
      "(580596, 4)\n",
      "   WineID  Vintage                         WineName  distance1\n",
      "0  100001     2008               Espumante Moscatel   1.722410\n",
      "1  100005     2008  Maison de Ville Cabernet-Merlot   1.689428\n",
      "2  100006     2008       Reserva Cabernet Sauvignon   1.700446\n",
      "3  100016     2008    Acquasantiera Tinto Seco Fino   1.965715\n",
      "4  100025     2008    Espumante Método Charmat Brut   1.684317\n"
     ]
    }
   ],
   "source": [
    "print(merged_wine_data.shape)\n",
    "print(merged_wine_data.head())"
   ]
  },
  {
   "cell_type": "code",
   "execution_count": 103,
   "metadata": {},
   "outputs": [
    {
     "name": "stdout",
     "output_type": "stream",
     "text": [
      "reference wine is Bardolino Classico in year 2017\n",
      "The 10 most similar wines are:\n",
      "Bardolino Classico in year 2017 with ID 142614 with distance 0.0\n",
      "Bardolino Classico in year 2015 with ID 142614 with distance 0.25147150330818696\n",
      "Bardolino Classico Il Torcolo in year 2011 with ID 148473 with distance 0.26373627238310493\n",
      "Essere Bardolino in year 2011 with ID 142680 with distance 0.2637490941709859\n",
      "Bardolino in year 2011 with ID 140692 with distance 0.26445598156897204\n",
      "Frescaripa Bardolino Classico in year 2011 with ID 136901 with distance 0.26464826669248975\n",
      "Bardolino Classico in year 2011 with ID 141128 with distance 0.2654915190272815\n",
      "Bardolino Classico in year 2011 with ID 139109 with distance 0.265499043501791\n",
      "Bardolino in year 2011 with ID 141941 with distance 0.26567088863038285\n",
      "Bardolino in year 2011 with ID 143728 with distance 0.26567088863038285\n",
      "Bardolino Classico in year 2011 with ID 137919 with distance 0.2656957914982054\n"
     ]
    }
   ],
   "source": [
    "# Sort the DataFrame by the euclidean_distance column and display the 10 nearest wines\n",
    "ref_wine_name = normalized_wine_data.loc[(normalized_wine_data['WineID'] == wine_id) & (normalized_wine_data['Vintage'] == vintage)]['WineName'].values[0]\n",
    "print(\"reference wine is \"+ ref_wine_name + \" in year \" + str(vintage))\n",
    "print(\"The 10 most similar wines are:\")\n",
    "\n",
    "if have_text_review:\n",
    "    distance_column = 'distance'\n",
    "else:\n",
    "    distance_column = 'distance1'\n",
    "\n",
    "sorted_df = merged_wine_data.sort_values(by=[distance_column])\n",
    "\n",
    "top_10 = sorted_df.head(NUMBER_OF_WINES_TO_RECOMMEND+1)\n",
    "\n",
    "for index, row in top_10.iterrows():\n",
    "    print(row['WineName'] + \" in year \" + str(row['Vintage']) +\" with ID \" + str(row['WineID']) +\" with distance \" + str(row[distance_column]))"
   ]
  }
 ],
 "metadata": {
  "kernelspec": {
   "display_name": "fl",
   "language": "python",
   "name": "python3"
  },
  "language_info": {
   "codemirror_mode": {
    "name": "ipython",
    "version": 3
   },
   "file_extension": ".py",
   "mimetype": "text/x-python",
   "name": "python",
   "nbconvert_exporter": "python",
   "pygments_lexer": "ipython3",
   "version": "3.9.16"
  }
 },
 "nbformat": 4,
 "nbformat_minor": 2
}
